{
 "cells": [
  {
   "cell_type": "markdown",
   "metadata": {},
   "source": [
    "# 初步統計結果"
   ]
  },
  {
   "cell_type": "markdown",
   "metadata": {},
   "source": [
    "### 點這邊隱藏或顯示 code"
   ]
  },
  {
   "cell_type": "code",
   "execution_count": 1,
   "metadata": {},
   "outputs": [
    {
     "data": {
      "text/html": [
       "<button onclick=\"$('.input, .prompt, .output_stderr, .output_error').toggle();\">隱藏/顯示 Code</button>"
      ]
     },
     "metadata": {},
     "output_type": "display_data"
    }
   ],
   "source": [
    "from IPython.display import display_html\n",
    "display_html(\"\"\"<button onclick=\"$('.input, .prompt, .output_stderr, .output_error').toggle();\">隱藏/顯示 Code</button>\"\"\", raw=True)"
   ]
  },
  {
   "cell_type": "code",
   "execution_count": 2,
   "metadata": {},
   "outputs": [],
   "source": [
    "## import 和開檔\n",
    "\n",
    "import csv\n",
    "import math\n",
    "import sys\n",
    "import numpy as np\n",
    "from numpy import array\n",
    "from random import shuffle\n",
    "import operator\n",
    "# star_file = str(sys.argv[1])\n",
    "star_file = 'stars.csv'\n",
    "lines = []\n",
    "data = []\n",
    "target = []\n"
   ]
  },
  {
   "cell_type": "code",
   "execution_count": 3,
   "metadata": {},
   "outputs": [],
   "source": [
    "# 兩個把星座名及特質名轉成數字的 function，方便 for loop 使用\n",
    "\n",
    "def getSignName(num):\n",
    "    return {\n",
    "        1 : '摩羯座',\n",
    "        2 : '水瓶座',\n",
    "        3 : '雙魚座',\n",
    "        4 : '牡羊座',\n",
    "        5 : '金牛座',\n",
    "        6 : '雙子座',\n",
    "        7 : '巨蟹座',\n",
    "        8 : '獅子座',\n",
    "        9 : '處女座',\n",
    "        10: '天秤座',\n",
    "        11: '天蠍座',\n",
    "        12: '射手座'\n",
    "    }[num]\n",
    "\n",
    "def getAttrName(num):\n",
    "    return {\n",
    "        1 : '耐性',\n",
    "        2 : '脾氣暴躁',\n",
    "        3 : '幼稚',\n",
    "        4 : '頑固',\n",
    "        5 : '心思細膩',\n",
    "        6 : '保守',\n",
    "        7 : '冷靜',\n",
    "        8 : '樂觀',\n",
    "        9 : '活潑',\n",
    "        10: '公正',\n",
    "        11: '優柔寡斷',\n",
    "        12: '強勢',\n",
    "        13: '浪漫',\n",
    "        14: '過度理想化',\n",
    "        15: '斤斤計較',\n",
    "        16: '心機重',\n",
    "        17: '完美主義',\n",
    "        18: '愛計仇',\n",
    "        19: '與眾不同',\n",
    "        20: '愛面子',\n",
    "        21: '有魅力',\n",
    "        22: '正義感',\n",
    "        23: '重視友情',\n",
    "        24: '專情',\n",
    "        25: '愛哭',\n",
    "        26: '顧家',\n",
    "        27: '體貼',\n",
    "        28: '情緒化',\n",
    "        29: '口才',\n",
    "        30: '創意',\n",
    "        31: '潔癖'\n",
    "    }[num]\n",
    "\n"
   ]
  },
  {
   "cell_type": "code",
   "execution_count": 4,
   "metadata": {},
   "outputs": [],
   "source": [
    "# 計算各星座的特質\n",
    "def calAttr(signAttr, signData):\n",
    "    for i in range(1, 13): # 12 個星座\n",
    "        for a in range(1, 32): # 32 題\n",
    "            signAttr[getSignName(i)][getAttrName(a)] /= len(signData[getSignName(i)])\n",
    "\n",
    "# 列出每個星座前n高的特質\n",
    "def highestAttr(signAttr, n):\n",
    "    for i in range(1, 13): # 12 個星座\n",
    "        sorted_a = sorted(signAttr[getSignName(i)].items(), key=operator.itemgetter(1))\n",
    "        sorted_a.reverse()\n",
    "        display_html('<h3>' + getSignName(i) + '</h3>', raw=True)\n",
    "        # print('---' + getSignName(i) + '---\\n')\n",
    "        c = 0\n",
    "        for attr in range(32):\n",
    "            if (sorted_a[attr][0] == '專情') or (sorted_a[attr][0] == '重視友情'):\n",
    "                continue\n",
    "            c += 1\n",
    "            print(sorted_a[attr])\n",
    "            if c == 5:\n",
    "                break\n",
    "        print('\\n\\n')\n",
    "\n",
    "# 每個特質最高與最低的n個星座\n",
    "def maxAttrSign(signAttr, n):\n",
    "    for a in range(1, 32):\n",
    "        attr = {}\n",
    "        for s in range(1, 13):\n",
    "            attr[getSignName(s)] = signAttr[getSignName(s)][getAttrName(a)]\n",
    "\n",
    "        sorted_attr = sorted(attr.items(), key=operator.itemgetter(1))\n",
    "        sorted_attr.reverse()\n",
    "\n",
    "        \n",
    "        display_html('<h3>' + getAttrName(a) + '</h3>', raw=True)\n",
    "        # print('--- ' + getAttrName(a) + '---')\n",
    "        \n",
    "        display_html('<h4>' + '前三名' + '</h4>', raw=True)\n",
    "        for i in range(n):\n",
    "            print(sorted_attr[i])\n",
    "        display_html('<h4>' + '後三名' + '</h4>', raw=True)\n",
    "        for i in range(n):\n",
    "            print(sorted_attr[11-i])\n",
    "        print('\\n\\n')\n",
    "        "
   ]
  },
  {
   "cell_type": "code",
   "execution_count": 5,
   "metadata": {},
   "outputs": [],
   "source": [
    "# 儲存資料用的 dict (按星座儲存)\n",
    "\n",
    "starSignData = {}\n",
    "starSignAttr = {}\n",
    "otherSignData = {}\n",
    "otherSignAttr = {}\n",
    "\n",
    "a = {}\n",
    "for i in range(1, 32):\n",
    "    a[getAttrName(i)] = 0\n",
    "\n",
    "for i in range(1, 13):\n",
    "    starSignData[getSignName(i)] = []\n",
    "    starSignAttr[getSignName(i)] = dict(a)\n",
    "    otherSignData[getSignName(i)] = []\n",
    "    otherSignAttr[getSignName(i)] = dict(a)"
   ]
  },
  {
   "cell_type": "code",
   "execution_count": 6,
   "metadata": {},
   "outputs": [],
   "source": [
    "# 讀 csv\n",
    "with open(star_file, newline='') as csvfile:\n",
    "    spamreader = csv.reader(csvfile, delimiter=' ', quotechar='|')\n",
    "    i = 0\n",
    "    for row in spamreader:\n",
    "        if i == 0: # header\n",
    "            row = row[0].split(',')\n",
    "            lines.append(row)\n",
    "            i += 1\n",
    "        else:\n",
    "            row = row[2].split(',')\n",
    "            lines.append(row)\n",
    "\n",
    "feature_names = lines[0]\n",
    "\n",
    "total_num = len(lines)\n",
    "other_total = 0\n",
    "\n",
    "# 整理資料\n",
    "del lines[0] # 去掉表單標題\n",
    "i = 0\n",
    "\n",
    "\n",
    "# 去掉時間\n",
    "for line in lines:\n",
    "    del line[0] # remove time\n",
    "    del line[len(line)-2] # remove commands\n"
   ]
  },
  {
   "cell_type": "code",
   "execution_count": 7,
   "metadata": {},
   "outputs": [],
   "source": [
    "# 把每一筆存進 data\n",
    "i = 0\n",
    "for line in lines:\n",
    "    if len(line) != 33:\n",
    "        # print('line[%d] has incorrect element num' % i)\n",
    "        total_num -= 1\n",
    "        continue\n",
    "    d = {}\n",
    "    d['分析對象'] = line[0]\n",
    "    d['星座'] = line[1]\n",
    "    d['耐性'] = int(line[2])\n",
    "    d['脾氣暴躁'] = int(line[3])\n",
    "    d['幼稚'] = int(line[4])\n",
    "    d['頑固'] = int(line[5])\n",
    "    d['心思細膩'] = int(line[6])\n",
    "    d['保守'] = int(line[7])\n",
    "    d['冷靜'] = int(line[8])\n",
    "    d['樂觀'] = int(line[9])\n",
    "    d['活潑'] = int(line[10])\n",
    "    d['公正'] = int(line[11])\n",
    "    d['優柔寡斷'] = int(line[12])\n",
    "    d['強勢'] = int(line[13])\n",
    "    d['浪漫'] = int(line[14])\n",
    "    d['過度理想化'] = int(line[15])\n",
    "    d['斤斤計較'] = int(line[16])\n",
    "    d['心機重'] = int(line[17])\n",
    "    d['完美主義'] = int(line[18])\n",
    "    d['愛計仇'] = int(line[19])\n",
    "    d['與眾不同'] = int(line[20])\n",
    "    d['愛面子'] = int(line[21])\n",
    "    d['有魅力'] = int(line[22])\n",
    "    d['正義感'] = int(line[23])\n",
    "    d['重視友情'] = int(line[24])\n",
    "    d['專情'] = int(line[25])\n",
    "    d['愛哭'] = int(line[26])\n",
    "    d['顧家'] = int(line[27])\n",
    "    d['體貼'] = int(line[28])\n",
    "    d['情緒化'] = int(line[29])\n",
    "    d['口才'] = int(line[30])\n",
    "    d['創意'] = int(line[31])\n",
    "    d['潔癖'] = int(line[32])\n",
    "    data.append(d)\n",
    "    i += 1\n",
    "\n",
    "\n"
   ]
  },
  {
   "cell_type": "markdown",
   "metadata": {},
   "source": [
    "## csv 資料總數"
   ]
  },
  {
   "cell_type": "code",
   "execution_count": 8,
   "metadata": {},
   "outputs": [
    {
     "name": "stdout",
     "output_type": "stream",
     "text": [
      "共 11726 份\n",
      "\n"
     ]
    }
   ],
   "source": [
    "print('共 %d 份\\n' % total_num)"
   ]
  },
  {
   "cell_type": "code",
   "execution_count": 9,
   "metadata": {},
   "outputs": [],
   "source": [
    "# 將資料依星座分類並加總特質\n",
    "for row in data:\n",
    "    for i in range(1, 32):\n",
    "        starSignAttr[row['星座']][getAttrName(i)] += row[getAttrName(i)]\n",
    "        if row['分析對象'] == '他人':\n",
    "            otherSignAttr[row['星座']][getAttrName(i)] += row[getAttrName(i)]\n",
    "\n",
    "    for i in range(1, 13):\n",
    "        if(row['星座'] == getSignName(i)):\n",
    "            starSignData[getSignName(i)].append(row)\n",
    "            if row['分析對象'] == '他人':\n",
    "                otherSignData[getSignName(i)].append(row)\n",
    "                other_total += 1\n"
   ]
  },
  {
   "cell_type": "markdown",
   "metadata": {},
   "source": [
    "### 各星座資料數"
   ]
  },
  {
   "cell_type": "code",
   "execution_count": 10,
   "metadata": {},
   "outputs": [
    {
     "name": "stdout",
     "output_type": "stream",
     "text": [
      "摩羯座 = 970\n",
      "水瓶座 = 1025\n",
      "雙魚座 = 989\n",
      "牡羊座 = 941\n",
      "金牛座 = 888\n",
      "雙子座 = 1010\n",
      "巨蟹座 = 1070\n",
      "獅子座 = 967\n",
      "處女座 = 943\n",
      "天秤座 = 967\n",
      "天蠍座 = 1090\n",
      "射手座 = 865\n"
     ]
    }
   ],
   "source": [
    "for i in range(1, 13):\n",
    "    print(getSignName(i) + ' = %d' % len(starSignData[getSignName(i)]))"
   ]
  },
  {
   "cell_type": "code",
   "execution_count": 11,
   "metadata": {},
   "outputs": [],
   "source": [
    "# 計算各星座的特質\n",
    "calAttr(starSignAttr, starSignData)"
   ]
  },
  {
   "cell_type": "markdown",
   "metadata": {},
   "source": [
    "## 每個星座前五高的特質"
   ]
  },
  {
   "cell_type": "code",
   "execution_count": 12,
   "metadata": {},
   "outputs": [
    {
     "data": {
      "text/html": [
       "<h3>摩羯座</h3>"
      ]
     },
     "metadata": {},
     "output_type": "display_data"
    },
    {
     "name": "stdout",
     "output_type": "stream",
     "text": [
      "('愛面子', 3.8154639175257734)\n",
      "('體貼', 3.792783505154639)\n",
      "('顧家', 3.7845360824742267)\n",
      "('正義感', 3.679381443298969)\n",
      "('心思細膩', 3.595876288659794)\n",
      "\n",
      "\n",
      "\n"
     ]
    },
    {
     "data": {
      "text/html": [
       "<h3>水瓶座</h3>"
      ]
     },
     "metadata": {},
     "output_type": "display_data"
    },
    {
     "name": "stdout",
     "output_type": "stream",
     "text": [
      "('與眾不同', 3.955121951219512)\n",
      "('創意', 3.826341463414634)\n",
      "('體貼', 3.7629268292682925)\n",
      "('優柔寡斷', 3.7346341463414636)\n",
      "('正義感', 3.7219512195121953)\n",
      "\n",
      "\n",
      "\n"
     ]
    },
    {
     "data": {
      "text/html": [
       "<h3>雙魚座</h3>"
      ]
     },
     "metadata": {},
     "output_type": "display_data"
    },
    {
     "name": "stdout",
     "output_type": "stream",
     "text": [
      "('優柔寡斷', 4.087967644084935)\n",
      "('體貼', 3.9777553083923154)\n",
      "('愛哭', 3.878665318503539)\n",
      "('情緒化', 3.7866531850353895)\n",
      "('浪漫', 3.7805864509605662)\n",
      "\n",
      "\n",
      "\n"
     ]
    },
    {
     "data": {
      "text/html": [
       "<h3>牡羊座</h3>"
      ]
     },
     "metadata": {},
     "output_type": "display_data"
    },
    {
     "name": "stdout",
     "output_type": "stream",
     "text": [
      "('正義感', 3.9054197662061636)\n",
      "('愛面子', 3.75451647183847)\n",
      "('活潑', 3.691817215727949)\n",
      "('情緒化', 3.682252922422954)\n",
      "('體貼', 3.6684378320935176)\n",
      "\n",
      "\n",
      "\n"
     ]
    },
    {
     "data": {
      "text/html": [
       "<h3>金牛座</h3>"
      ]
     },
     "metadata": {},
     "output_type": "display_data"
    },
    {
     "name": "stdout",
     "output_type": "stream",
     "text": [
      "('體貼', 3.8704954954954953)\n",
      "('頑固', 3.8018018018018016)\n",
      "('顧家', 3.7567567567567566)\n",
      "('愛面子', 3.6914414414414414)\n",
      "('正義感', 3.6182432432432434)\n",
      "\n",
      "\n",
      "\n"
     ]
    },
    {
     "data": {
      "text/html": [
       "<h3>雙子座</h3>"
      ]
     },
     "metadata": {},
     "output_type": "display_data"
    },
    {
     "name": "stdout",
     "output_type": "stream",
     "text": [
      "('情緒化', 3.7534653465346532)\n",
      "('優柔寡斷', 3.7455445544554458)\n",
      "('體貼', 3.698019801980198)\n",
      "('創意', 3.6910891089108913)\n",
      "('活潑', 3.6643564356435645)\n",
      "\n",
      "\n",
      "\n"
     ]
    },
    {
     "data": {
      "text/html": [
       "<h3>巨蟹座</h3>"
      ]
     },
     "metadata": {},
     "output_type": "display_data"
    },
    {
     "name": "stdout",
     "output_type": "stream",
     "text": [
      "('體貼', 4.083177570093458)\n",
      "('顧家', 4.0616822429906545)\n",
      "('情緒化', 4.021495327102803)\n",
      "('優柔寡斷', 3.8747663551401867)\n",
      "('心思細膩', 3.788785046728972)\n",
      "\n",
      "\n",
      "\n"
     ]
    },
    {
     "data": {
      "text/html": [
       "<h3>獅子座</h3>"
      ]
     },
     "metadata": {},
     "output_type": "display_data"
    },
    {
     "name": "stdout",
     "output_type": "stream",
     "text": [
      "('愛面子', 4.347466390899689)\n",
      "('正義感', 3.873836608066184)\n",
      "('體貼', 3.754912099276112)\n",
      "('活潑', 3.605997931747673)\n",
      "('強勢', 3.5997931747673215)\n",
      "\n",
      "\n",
      "\n"
     ]
    },
    {
     "data": {
      "text/html": [
       "<h3>處女座</h3>"
      ]
     },
     "metadata": {},
     "output_type": "display_data"
    },
    {
     "name": "stdout",
     "output_type": "stream",
     "text": [
      "('體貼', 3.890774125132556)\n",
      "('心思細膩', 3.87592788971368)\n",
      "('愛面子', 3.870625662778367)\n",
      "('完美主義', 3.860021208907741)\n",
      "('正義感', 3.7306468716861083)\n",
      "\n",
      "\n",
      "\n"
     ]
    },
    {
     "data": {
      "text/html": [
       "<h3>天秤座</h3>"
      ]
     },
     "metadata": {},
     "output_type": "display_data"
    },
    {
     "name": "stdout",
     "output_type": "stream",
     "text": [
      "('優柔寡斷', 4.36401240951396)\n",
      "('體貼', 3.8614270941054807)\n",
      "('正義感', 3.83971044467425)\n",
      "('公正', 3.768355739400207)\n",
      "('愛面子', 3.6142709410548086)\n",
      "\n",
      "\n",
      "\n"
     ]
    },
    {
     "data": {
      "text/html": [
       "<h3>天蠍座</h3>"
      ]
     },
     "metadata": {},
     "output_type": "display_data"
    },
    {
     "name": "stdout",
     "output_type": "stream",
     "text": [
      "('體貼', 3.810091743119266)\n",
      "('愛面子', 3.7394495412844035)\n",
      "('心思細膩', 3.714678899082569)\n",
      "('愛計仇', 3.710091743119266)\n",
      "('正義感', 3.706422018348624)\n",
      "\n",
      "\n",
      "\n"
     ]
    },
    {
     "data": {
      "text/html": [
       "<h3>射手座</h3>"
      ]
     },
     "metadata": {},
     "output_type": "display_data"
    },
    {
     "name": "stdout",
     "output_type": "stream",
     "text": [
      "('正義感', 3.860115606936416)\n",
      "('活潑', 3.7676300578034683)\n",
      "('體貼', 3.7144508670520233)\n",
      "('樂觀', 3.6786127167630056)\n",
      "('與眾不同', 3.576878612716763)\n",
      "\n",
      "\n",
      "\n"
     ]
    }
   ],
   "source": [
    "highestAttr(starSignAttr, 5)"
   ]
  },
  {
   "cell_type": "markdown",
   "metadata": {},
   "source": [
    "## 每個特質最高與最低的3個星座"
   ]
  },
  {
   "cell_type": "code",
   "execution_count": 13,
   "metadata": {},
   "outputs": [
    {
     "data": {
      "text/html": [
       "<h3>耐性</h3>"
      ]
     },
     "metadata": {},
     "output_type": "display_data"
    },
    {
     "data": {
      "text/html": [
       "<h4>前三名</h4>"
      ]
     },
     "metadata": {},
     "output_type": "display_data"
    },
    {
     "name": "stdout",
     "output_type": "stream",
     "text": [
      "('摩羯座', 3.356701030927835)\n",
      "('金牛座', 3.293918918918919)\n",
      "('巨蟹座', 3.2822429906542054)\n"
     ]
    },
    {
     "data": {
      "text/html": [
       "<h4>後三名</h4>"
      ]
     },
     "metadata": {},
     "output_type": "display_data"
    },
    {
     "name": "stdout",
     "output_type": "stream",
     "text": [
      "('牡羊座', 2.4952178533475027)\n",
      "('射手座', 2.731791907514451)\n",
      "('獅子座', 2.7456049638055844)\n",
      "\n",
      "\n",
      "\n"
     ]
    },
    {
     "data": {
      "text/html": [
       "<h3>脾氣暴躁</h3>"
      ]
     },
     "metadata": {},
     "output_type": "display_data"
    },
    {
     "data": {
      "text/html": [
       "<h4>前三名</h4>"
      ]
     },
     "metadata": {},
     "output_type": "display_data"
    },
    {
     "name": "stdout",
     "output_type": "stream",
     "text": [
      "('牡羊座', 3.344314558979809)\n",
      "('獅子座', 3.213029989658738)\n",
      "('天蠍座', 3.0642201834862384)\n"
     ]
    },
    {
     "data": {
      "text/html": [
       "<h4>後三名</h4>"
      ]
     },
     "metadata": {},
     "output_type": "display_data"
    },
    {
     "name": "stdout",
     "output_type": "stream",
     "text": [
      "('天秤座', 2.7094105480868667)\n",
      "('雙魚座', 2.7532861476238626)\n",
      "('巨蟹座', 2.825233644859813)\n",
      "\n",
      "\n",
      "\n"
     ]
    },
    {
     "data": {
      "text/html": [
       "<h3>幼稚</h3>"
      ]
     },
     "metadata": {},
     "output_type": "display_data"
    },
    {
     "data": {
      "text/html": [
       "<h4>前三名</h4>"
      ]
     },
     "metadata": {},
     "output_type": "display_data"
    },
    {
     "name": "stdout",
     "output_type": "stream",
     "text": [
      "('雙子座', 3.4524752475247524)\n",
      "('射手座', 3.432369942196532)\n",
      "('牡羊座', 3.4070138150903295)\n"
     ]
    },
    {
     "data": {
      "text/html": [
       "<h4>後三名</h4>"
      ]
     },
     "metadata": {},
     "output_type": "display_data"
    },
    {
     "name": "stdout",
     "output_type": "stream",
     "text": [
      "('摩羯座', 2.9072164948453607)\n",
      "('處女座', 2.933191940615058)\n",
      "('天蠍座', 2.9889908256880733)\n",
      "\n",
      "\n",
      "\n"
     ]
    },
    {
     "data": {
      "text/html": [
       "<h3>頑固</h3>"
      ]
     },
     "metadata": {},
     "output_type": "display_data"
    },
    {
     "data": {
      "text/html": [
       "<h4>前三名</h4>"
      ]
     },
     "metadata": {},
     "output_type": "display_data"
    },
    {
     "name": "stdout",
     "output_type": "stream",
     "text": [
      "('金牛座', 3.8018018018018016)\n",
      "('摩羯座', 3.465979381443299)\n",
      "('處女座', 3.211028632025451)\n"
     ]
    },
    {
     "data": {
      "text/html": [
       "<h4>後三名</h4>"
      ]
     },
     "metadata": {},
     "output_type": "display_data"
    },
    {
     "name": "stdout",
     "output_type": "stream",
     "text": [
      "('天秤座', 2.8459152016546017)\n",
      "('雙子座', 2.871287128712871)\n",
      "('雙魚座', 2.9211324570273005)\n",
      "\n",
      "\n",
      "\n"
     ]
    },
    {
     "data": {
      "text/html": [
       "<h3>心思細膩</h3>"
      ]
     },
     "metadata": {},
     "output_type": "display_data"
    },
    {
     "data": {
      "text/html": [
       "<h4>前三名</h4>"
      ]
     },
     "metadata": {},
     "output_type": "display_data"
    },
    {
     "name": "stdout",
     "output_type": "stream",
     "text": [
      "('處女座', 3.87592788971368)\n",
      "('巨蟹座', 3.788785046728972)\n",
      "('雙魚座', 3.7654196157735087)\n"
     ]
    },
    {
     "data": {
      "text/html": [
       "<h4>後三名</h4>"
      ]
     },
     "metadata": {},
     "output_type": "display_data"
    },
    {
     "name": "stdout",
     "output_type": "stream",
     "text": [
      "('射手座', 3.0219653179190753)\n",
      "('牡羊座', 3.042507970244421)\n",
      "('獅子座', 3.2854188210961737)\n",
      "\n",
      "\n",
      "\n"
     ]
    },
    {
     "data": {
      "text/html": [
       "<h3>保守</h3>"
      ]
     },
     "metadata": {},
     "output_type": "display_data"
    },
    {
     "data": {
      "text/html": [
       "<h4>前三名</h4>"
      ]
     },
     "metadata": {},
     "output_type": "display_data"
    },
    {
     "name": "stdout",
     "output_type": "stream",
     "text": [
      "('摩羯座', 3.4164948453608246)\n",
      "('金牛座', 3.185810810810811)\n",
      "('處女座', 3.1770943796394486)\n"
     ]
    },
    {
     "data": {
      "text/html": [
       "<h4>後三名</h4>"
      ]
     },
     "metadata": {},
     "output_type": "display_data"
    },
    {
     "name": "stdout",
     "output_type": "stream",
     "text": [
      "('射手座', 2.7190751445086705)\n",
      "('牡羊座', 2.742826780021254)\n",
      "('水瓶座', 2.7482926829268295)\n",
      "\n",
      "\n",
      "\n"
     ]
    },
    {
     "data": {
      "text/html": [
       "<h3>冷靜</h3>"
      ]
     },
     "metadata": {},
     "output_type": "display_data"
    },
    {
     "data": {
      "text/html": [
       "<h4>前三名</h4>"
      ]
     },
     "metadata": {},
     "output_type": "display_data"
    },
    {
     "name": "stdout",
     "output_type": "stream",
     "text": [
      "('摩羯座', 3.5505154639175256)\n",
      "('天蠍座', 3.389908256880734)\n",
      "('水瓶座', 3.3746341463414633)\n"
     ]
    },
    {
     "data": {
      "text/html": [
       "<h4>後三名</h4>"
      ]
     },
     "metadata": {},
     "output_type": "display_data"
    },
    {
     "name": "stdout",
     "output_type": "stream",
     "text": [
      "('牡羊座', 2.8703506907545164)\n",
      "('雙魚座', 2.9322548028311424)\n",
      "('射手座', 2.9895953757225433)\n",
      "\n",
      "\n",
      "\n"
     ]
    },
    {
     "data": {
      "text/html": [
       "<h3>樂觀</h3>"
      ]
     },
     "metadata": {},
     "output_type": "display_data"
    },
    {
     "data": {
      "text/html": [
       "<h4>前三名</h4>"
      ]
     },
     "metadata": {},
     "output_type": "display_data"
    },
    {
     "name": "stdout",
     "output_type": "stream",
     "text": [
      "('射手座', 3.6786127167630056)\n",
      "('牡羊座', 3.4282678002125397)\n",
      "('獅子座', 3.3505687693898656)\n"
     ]
    },
    {
     "data": {
      "text/html": [
       "<h4>後三名</h4>"
      ]
     },
     "metadata": {},
     "output_type": "display_data"
    },
    {
     "name": "stdout",
     "output_type": "stream",
     "text": [
      "('摩羯座', 2.781443298969072)\n",
      "('天蠍座', 2.881651376146789)\n",
      "('處女座', 2.889713679745493)\n",
      "\n",
      "\n",
      "\n"
     ]
    },
    {
     "data": {
      "text/html": [
       "<h3>活潑</h3>"
      ]
     },
     "metadata": {},
     "output_type": "display_data"
    },
    {
     "data": {
      "text/html": [
       "<h4>前三名</h4>"
      ]
     },
     "metadata": {},
     "output_type": "display_data"
    },
    {
     "name": "stdout",
     "output_type": "stream",
     "text": [
      "('射手座', 3.7676300578034683)\n",
      "('牡羊座', 3.691817215727949)\n",
      "('雙子座', 3.6643564356435645)\n"
     ]
    },
    {
     "data": {
      "text/html": [
       "<h4>後三名</h4>"
      ]
     },
     "metadata": {},
     "output_type": "display_data"
    },
    {
     "name": "stdout",
     "output_type": "stream",
     "text": [
      "('摩羯座', 3.1422680412371133)\n",
      "('天蠍座', 3.2504587155963303)\n",
      "('處女座', 3.2820784729586427)\n",
      "\n",
      "\n",
      "\n"
     ]
    },
    {
     "data": {
      "text/html": [
       "<h3>公正</h3>"
      ]
     },
     "metadata": {},
     "output_type": "display_data"
    },
    {
     "data": {
      "text/html": [
       "<h4>前三名</h4>"
      ]
     },
     "metadata": {},
     "output_type": "display_data"
    },
    {
     "name": "stdout",
     "output_type": "stream",
     "text": [
      "('天秤座', 3.768355739400207)\n",
      "('摩羯座', 3.569072164948454)\n",
      "('處女座', 3.513255567338282)\n"
     ]
    },
    {
     "data": {
      "text/html": [
       "<h4>後三名</h4>"
      ]
     },
     "metadata": {},
     "output_type": "display_data"
    },
    {
     "name": "stdout",
     "output_type": "stream",
     "text": [
      "('雙魚座', 3.282103134479272)\n",
      "('雙子座', 3.287128712871287)\n",
      "('巨蟹座', 3.298130841121495)\n",
      "\n",
      "\n",
      "\n"
     ]
    },
    {
     "data": {
      "text/html": [
       "<h3>優柔寡斷</h3>"
      ]
     },
     "metadata": {},
     "output_type": "display_data"
    },
    {
     "data": {
      "text/html": [
       "<h4>前三名</h4>"
      ]
     },
     "metadata": {},
     "output_type": "display_data"
    },
    {
     "name": "stdout",
     "output_type": "stream",
     "text": [
      "('天秤座', 4.36401240951396)\n",
      "('雙魚座', 4.087967644084935)\n",
      "('巨蟹座', 3.8747663551401867)\n"
     ]
    },
    {
     "data": {
      "text/html": [
       "<h4>後三名</h4>"
      ]
     },
     "metadata": {},
     "output_type": "display_data"
    },
    {
     "name": "stdout",
     "output_type": "stream",
     "text": [
      "('牡羊座', 3.3453772582359194)\n",
      "('獅子座', 3.3505687693898656)\n",
      "('射手座', 3.397687861271676)\n",
      "\n",
      "\n",
      "\n"
     ]
    },
    {
     "data": {
      "text/html": [
       "<h3>強勢</h3>"
      ]
     },
     "metadata": {},
     "output_type": "display_data"
    },
    {
     "data": {
      "text/html": [
       "<h4>前三名</h4>"
      ]
     },
     "metadata": {},
     "output_type": "display_data"
    },
    {
     "name": "stdout",
     "output_type": "stream",
     "text": [
      "('獅子座', 3.5997931747673215)\n",
      "('天蠍座', 3.4330275229357796)\n",
      "('牡羊座', 3.392136025504782)\n"
     ]
    },
    {
     "data": {
      "text/html": [
       "<h4>後三名</h4>"
      ]
     },
     "metadata": {},
     "output_type": "display_data"
    },
    {
     "name": "stdout",
     "output_type": "stream",
     "text": [
      "('雙魚座', 2.6885743174924164)\n",
      "('巨蟹座', 2.7046728971962617)\n",
      "('天秤座', 2.902792140641158)\n",
      "\n",
      "\n",
      "\n"
     ]
    },
    {
     "data": {
      "text/html": [
       "<h3>浪漫</h3>"
      ]
     },
     "metadata": {},
     "output_type": "display_data"
    },
    {
     "data": {
      "text/html": [
       "<h4>前三名</h4>"
      ]
     },
     "metadata": {},
     "output_type": "display_data"
    },
    {
     "name": "stdout",
     "output_type": "stream",
     "text": [
      "('雙魚座', 3.7805864509605662)\n",
      "('天秤座', 3.3019648397104446)\n",
      "('巨蟹座', 3.297196261682243)\n"
     ]
    },
    {
     "data": {
      "text/html": [
       "<h4>後三名</h4>"
      ]
     },
     "metadata": {},
     "output_type": "display_data"
    },
    {
     "name": "stdout",
     "output_type": "stream",
     "text": [
      "('摩羯座', 2.638144329896907)\n",
      "('金牛座', 2.949324324324324)\n",
      "('水瓶座', 3.031219512195122)\n",
      "\n",
      "\n",
      "\n"
     ]
    },
    {
     "data": {
      "text/html": [
       "<h3>過度理想化</h3>"
      ]
     },
     "metadata": {},
     "output_type": "display_data"
    },
    {
     "data": {
      "text/html": [
       "<h4>前三名</h4>"
      ]
     },
     "metadata": {},
     "output_type": "display_data"
    },
    {
     "name": "stdout",
     "output_type": "stream",
     "text": [
      "('雙魚座', 3.6744186046511627)\n",
      "('巨蟹座', 3.197196261682243)\n",
      "('水瓶座', 3.1297560975609757)\n"
     ]
    },
    {
     "data": {
      "text/html": [
       "<h4>後三名</h4>"
      ]
     },
     "metadata": {},
     "output_type": "display_data"
    },
    {
     "name": "stdout",
     "output_type": "stream",
     "text": [
      "('摩羯座', 2.388659793814433)\n",
      "('金牛座', 2.606981981981982)\n",
      "('處女座', 2.6977730646871687)\n",
      "\n",
      "\n",
      "\n"
     ]
    },
    {
     "data": {
      "text/html": [
       "<h3>斤斤計較</h3>"
      ]
     },
     "metadata": {},
     "output_type": "display_data"
    },
    {
     "data": {
      "text/html": [
       "<h4>前三名</h4>"
      ]
     },
     "metadata": {},
     "output_type": "display_data"
    },
    {
     "name": "stdout",
     "output_type": "stream",
     "text": [
      "('金牛座', 2.9966216216216215)\n",
      "('處女座', 2.852598091198303)\n",
      "('摩羯座', 2.808247422680412)\n"
     ]
    },
    {
     "data": {
      "text/html": [
       "<h4>後三名</h4>"
      ]
     },
     "metadata": {},
     "output_type": "display_data"
    },
    {
     "name": "stdout",
     "output_type": "stream",
     "text": [
      "('射手座', 2.406936416184971)\n",
      "('獅子座', 2.4167528438469494)\n",
      "('水瓶座', 2.518048780487805)\n",
      "\n",
      "\n",
      "\n"
     ]
    },
    {
     "data": {
      "text/html": [
       "<h3>心機重</h3>"
      ]
     },
     "metadata": {},
     "output_type": "display_data"
    },
    {
     "data": {
      "text/html": [
       "<h4>前三名</h4>"
      ]
     },
     "metadata": {},
     "output_type": "display_data"
    },
    {
     "name": "stdout",
     "output_type": "stream",
     "text": [
      "('天蠍座', 3.010091743119266)\n",
      "('摩羯座', 2.6948453608247425)\n",
      "('處女座', 2.591728525980912)\n"
     ]
    },
    {
     "data": {
      "text/html": [
       "<h4>後三名</h4>"
      ]
     },
     "metadata": {},
     "output_type": "display_data"
    },
    {
     "name": "stdout",
     "output_type": "stream",
     "text": [
      "('牡羊座', 2.090329436769394)\n",
      "('射手座', 2.1502890173410405)\n",
      "('獅子座', 2.2430196483971043)\n",
      "\n",
      "\n",
      "\n"
     ]
    },
    {
     "data": {
      "text/html": [
       "<h3>完美主義</h3>"
      ]
     },
     "metadata": {},
     "output_type": "display_data"
    },
    {
     "data": {
      "text/html": [
       "<h4>前三名</h4>"
      ]
     },
     "metadata": {},
     "output_type": "display_data"
    },
    {
     "name": "stdout",
     "output_type": "stream",
     "text": [
      "('處女座', 3.860021208907741)\n",
      "('摩羯座', 3.337113402061856)\n",
      "('天蠍座', 3.2752293577981653)\n"
     ]
    },
    {
     "data": {
      "text/html": [
       "<h4>後三名</h4>"
      ]
     },
     "metadata": {},
     "output_type": "display_data"
    },
    {
     "name": "stdout",
     "output_type": "stream",
     "text": [
      "('射手座', 2.7502890173410406)\n",
      "('牡羊座', 2.8650371944739637)\n",
      "('水瓶座', 2.9014634146341463)\n",
      "\n",
      "\n",
      "\n"
     ]
    },
    {
     "data": {
      "text/html": [
       "<h3>愛計仇</h3>"
      ]
     },
     "metadata": {},
     "output_type": "display_data"
    },
    {
     "data": {
      "text/html": [
       "<h4>前三名</h4>"
      ]
     },
     "metadata": {},
     "output_type": "display_data"
    },
    {
     "name": "stdout",
     "output_type": "stream",
     "text": [
      "('天蠍座', 3.710091743119266)\n",
      "('處女座', 3.264050901378579)\n",
      "('摩羯座', 3.129896907216495)\n"
     ]
    },
    {
     "data": {
      "text/html": [
       "<h4>後三名</h4>"
      ]
     },
     "metadata": {},
     "output_type": "display_data"
    },
    {
     "name": "stdout",
     "output_type": "stream",
     "text": [
      "('牡羊座', 2.2731137088204036)\n",
      "('射手座', 2.3167630057803468)\n",
      "('雙子座', 2.366336633663366)\n",
      "\n",
      "\n",
      "\n"
     ]
    },
    {
     "data": {
      "text/html": [
       "<h3>與眾不同</h3>"
      ]
     },
     "metadata": {},
     "output_type": "display_data"
    },
    {
     "data": {
      "text/html": [
       "<h4>前三名</h4>"
      ]
     },
     "metadata": {},
     "output_type": "display_data"
    },
    {
     "name": "stdout",
     "output_type": "stream",
     "text": [
      "('水瓶座', 3.955121951219512)\n",
      "('天蠍座', 3.614678899082569)\n",
      "('牡羊座', 3.578108395324123)\n"
     ]
    },
    {
     "data": {
      "text/html": [
       "<h4>後三名</h4>"
      ]
     },
     "metadata": {},
     "output_type": "display_data"
    },
    {
     "name": "stdout",
     "output_type": "stream",
     "text": [
      "('巨蟹座', 3.3261682242990656)\n",
      "('雙魚座', 3.3892821031344793)\n",
      "('雙子座', 3.4534653465346534)\n",
      "\n",
      "\n",
      "\n"
     ]
    },
    {
     "data": {
      "text/html": [
       "<h3>愛面子</h3>"
      ]
     },
     "metadata": {},
     "output_type": "display_data"
    },
    {
     "data": {
      "text/html": [
       "<h4>前三名</h4>"
      ]
     },
     "metadata": {},
     "output_type": "display_data"
    },
    {
     "name": "stdout",
     "output_type": "stream",
     "text": [
      "('獅子座', 4.347466390899689)\n",
      "('處女座', 3.870625662778367)\n",
      "('摩羯座', 3.8154639175257734)\n"
     ]
    },
    {
     "data": {
      "text/html": [
       "<h4>後三名</h4>"
      ]
     },
     "metadata": {},
     "output_type": "display_data"
    },
    {
     "name": "stdout",
     "output_type": "stream",
     "text": [
      "('射手座', 3.393063583815029)\n",
      "('雙魚座', 3.429726996966633)\n",
      "('水瓶座', 3.499512195121951)\n",
      "\n",
      "\n",
      "\n"
     ]
    },
    {
     "data": {
      "text/html": [
       "<h3>有魅力</h3>"
      ]
     },
     "metadata": {},
     "output_type": "display_data"
    },
    {
     "data": {
      "text/html": [
       "<h4>前三名</h4>"
      ]
     },
     "metadata": {},
     "output_type": "display_data"
    },
    {
     "name": "stdout",
     "output_type": "stream",
     "text": [
      "('天蠍座', 3.328440366972477)\n",
      "('天秤座', 3.294725956566701)\n",
      "('獅子座', 3.2730093071354704)\n"
     ]
    },
    {
     "data": {
      "text/html": [
       "<h4>後三名</h4>"
      ]
     },
     "metadata": {},
     "output_type": "display_data"
    },
    {
     "name": "stdout",
     "output_type": "stream",
     "text": [
      "('巨蟹座', 2.913084112149533)\n",
      "('金牛座', 2.9414414414414414)\n",
      "('摩羯座', 3.009278350515464)\n",
      "\n",
      "\n",
      "\n"
     ]
    },
    {
     "data": {
      "text/html": [
       "<h3>正義感</h3>"
      ]
     },
     "metadata": {},
     "output_type": "display_data"
    },
    {
     "data": {
      "text/html": [
       "<h4>前三名</h4>"
      ]
     },
     "metadata": {},
     "output_type": "display_data"
    },
    {
     "name": "stdout",
     "output_type": "stream",
     "text": [
      "('牡羊座', 3.9054197662061636)\n",
      "('獅子座', 3.873836608066184)\n",
      "('射手座', 3.860115606936416)\n"
     ]
    },
    {
     "data": {
      "text/html": [
       "<h4>後三名</h4>"
      ]
     },
     "metadata": {},
     "output_type": "display_data"
    },
    {
     "name": "stdout",
     "output_type": "stream",
     "text": [
      "('雙子座', 3.603960396039604)\n",
      "('金牛座', 3.6182432432432434)\n",
      "('巨蟹座', 3.619626168224299)\n",
      "\n",
      "\n",
      "\n"
     ]
    },
    {
     "data": {
      "text/html": [
       "<h3>重視友情</h3>"
      ]
     },
     "metadata": {},
     "output_type": "display_data"
    },
    {
     "data": {
      "text/html": [
       "<h4>前三名</h4>"
      ]
     },
     "metadata": {},
     "output_type": "display_data"
    },
    {
     "name": "stdout",
     "output_type": "stream",
     "text": [
      "('水瓶座', 4.331707317073171)\n",
      "('射手座', 4.319075144508671)\n",
      "('天秤座', 4.273009307135471)\n"
     ]
    },
    {
     "data": {
      "text/html": [
       "<h4>後三名</h4>"
      ]
     },
     "metadata": {},
     "output_type": "display_data"
    },
    {
     "name": "stdout",
     "output_type": "stream",
     "text": [
      "('雙魚座', 4.084934277047522)\n",
      "('金牛座', 4.097972972972973)\n",
      "('雙子座', 4.136633663366337)\n",
      "\n",
      "\n",
      "\n"
     ]
    },
    {
     "data": {
      "text/html": [
       "<h3>專情</h3>"
      ]
     },
     "metadata": {},
     "output_type": "display_data"
    },
    {
     "data": {
      "text/html": [
       "<h4>前三名</h4>"
      ]
     },
     "metadata": {},
     "output_type": "display_data"
    },
    {
     "name": "stdout",
     "output_type": "stream",
     "text": [
      "('天蠍座', 4.371559633027523)\n",
      "('金牛座', 4.331081081081081)\n",
      "('處女座', 4.274655355249204)\n"
     ]
    },
    {
     "data": {
      "text/html": [
       "<h4>後三名</h4>"
      ]
     },
     "metadata": {},
     "output_type": "display_data"
    },
    {
     "name": "stdout",
     "output_type": "stream",
     "text": [
      "('雙子座', 4.03960396039604)\n",
      "('雙魚座', 4.057633973710819)\n",
      "('射手座', 4.0913294797687865)\n",
      "\n",
      "\n",
      "\n"
     ]
    },
    {
     "data": {
      "text/html": [
       "<h3>愛哭</h3>"
      ]
     },
     "metadata": {},
     "output_type": "display_data"
    },
    {
     "data": {
      "text/html": [
       "<h4>前三名</h4>"
      ]
     },
     "metadata": {},
     "output_type": "display_data"
    },
    {
     "name": "stdout",
     "output_type": "stream",
     "text": [
      "('雙魚座', 3.878665318503539)\n",
      "('巨蟹座', 3.778504672897196)\n",
      "('天秤座', 3.4788004136504656)\n"
     ]
    },
    {
     "data": {
      "text/html": [
       "<h4>後三名</h4>"
      ]
     },
     "metadata": {},
     "output_type": "display_data"
    },
    {
     "name": "stdout",
     "output_type": "stream",
     "text": [
      "('水瓶座', 3.3034146341463413)\n",
      "('摩羯座', 3.3237113402061857)\n",
      "('天蠍座', 3.324770642201835)\n",
      "\n",
      "\n",
      "\n"
     ]
    },
    {
     "data": {
      "text/html": [
       "<h3>顧家</h3>"
      ]
     },
     "metadata": {},
     "output_type": "display_data"
    },
    {
     "data": {
      "text/html": [
       "<h4>前三名</h4>"
      ]
     },
     "metadata": {},
     "output_type": "display_data"
    },
    {
     "name": "stdout",
     "output_type": "stream",
     "text": [
      "('巨蟹座', 4.0616822429906545)\n",
      "('摩羯座', 3.7845360824742267)\n",
      "('金牛座', 3.7567567567567566)\n"
     ]
    },
    {
     "data": {
      "text/html": [
       "<h4>後三名</h4>"
      ]
     },
     "metadata": {},
     "output_type": "display_data"
    },
    {
     "name": "stdout",
     "output_type": "stream",
     "text": [
      "('射手座', 3.1410404624277457)\n",
      "('水瓶座', 3.3678048780487804)\n",
      "('雙子座', 3.368316831683168)\n",
      "\n",
      "\n",
      "\n"
     ]
    },
    {
     "data": {
      "text/html": [
       "<h3>體貼</h3>"
      ]
     },
     "metadata": {},
     "output_type": "display_data"
    },
    {
     "data": {
      "text/html": [
       "<h4>前三名</h4>"
      ]
     },
     "metadata": {},
     "output_type": "display_data"
    },
    {
     "name": "stdout",
     "output_type": "stream",
     "text": [
      "('巨蟹座', 4.083177570093458)\n",
      "('雙魚座', 3.9777553083923154)\n",
      "('處女座', 3.890774125132556)\n"
     ]
    },
    {
     "data": {
      "text/html": [
       "<h4>後三名</h4>"
      ]
     },
     "metadata": {},
     "output_type": "display_data"
    },
    {
     "name": "stdout",
     "output_type": "stream",
     "text": [
      "('牡羊座', 3.6684378320935176)\n",
      "('雙子座', 3.698019801980198)\n",
      "('射手座', 3.7144508670520233)\n",
      "\n",
      "\n",
      "\n"
     ]
    },
    {
     "data": {
      "text/html": [
       "<h3>情緒化</h3>"
      ]
     },
     "metadata": {},
     "output_type": "display_data"
    },
    {
     "data": {
      "text/html": [
       "<h4>前三名</h4>"
      ]
     },
     "metadata": {},
     "output_type": "display_data"
    },
    {
     "name": "stdout",
     "output_type": "stream",
     "text": [
      "('巨蟹座', 4.021495327102803)\n",
      "('雙魚座', 3.7866531850353895)\n",
      "('雙子座', 3.7534653465346532)\n"
     ]
    },
    {
     "data": {
      "text/html": [
       "<h4>後三名</h4>"
      ]
     },
     "metadata": {},
     "output_type": "display_data"
    },
    {
     "name": "stdout",
     "output_type": "stream",
     "text": [
      "('摩羯座', 3.2989690721649483)\n",
      "('天秤座', 3.378490175801448)\n",
      "('金牛座', 3.391891891891892)\n",
      "\n",
      "\n",
      "\n"
     ]
    },
    {
     "data": {
      "text/html": [
       "<h3>口才</h3>"
      ]
     },
     "metadata": {},
     "output_type": "display_data"
    },
    {
     "data": {
      "text/html": [
       "<h4>前三名</h4>"
      ]
     },
     "metadata": {},
     "output_type": "display_data"
    },
    {
     "name": "stdout",
     "output_type": "stream",
     "text": [
      "('雙子座', 3.5841584158415842)\n",
      "('天秤座', 3.439503619441572)\n",
      "('處女座', 3.3700954400848357)\n"
     ]
    },
    {
     "data": {
      "text/html": [
       "<h4>後三名</h4>"
      ]
     },
     "metadata": {},
     "output_type": "display_data"
    },
    {
     "name": "stdout",
     "output_type": "stream",
     "text": [
      "('巨蟹座', 3.0588785046728972)\n",
      "('金牛座', 3.1554054054054053)\n",
      "('雙魚座', 3.1638018200202223)\n",
      "\n",
      "\n",
      "\n"
     ]
    },
    {
     "data": {
      "text/html": [
       "<h3>創意</h3>"
      ]
     },
     "metadata": {},
     "output_type": "display_data"
    },
    {
     "data": {
      "text/html": [
       "<h4>前三名</h4>"
      ]
     },
     "metadata": {},
     "output_type": "display_data"
    },
    {
     "name": "stdout",
     "output_type": "stream",
     "text": [
      "('水瓶座', 3.826341463414634)\n",
      "('雙子座', 3.6910891089108913)\n",
      "('射手座', 3.5364161849710984)\n"
     ]
    },
    {
     "data": {
      "text/html": [
       "<h4>後三名</h4>"
      ]
     },
     "metadata": {},
     "output_type": "display_data"
    },
    {
     "name": "stdout",
     "output_type": "stream",
     "text": [
      "('摩羯座', 3.1505154639175257)\n",
      "('金牛座', 3.1779279279279278)\n",
      "('處女座', 3.2343584305408273)\n",
      "\n",
      "\n",
      "\n"
     ]
    },
    {
     "data": {
      "text/html": [
       "<h3>潔癖</h3>"
      ]
     },
     "metadata": {},
     "output_type": "display_data"
    },
    {
     "data": {
      "text/html": [
       "<h4>前三名</h4>"
      ]
     },
     "metadata": {},
     "output_type": "display_data"
    },
    {
     "name": "stdout",
     "output_type": "stream",
     "text": [
      "('處女座', 3.3775185577942737)\n",
      "('摩羯座', 3.122680412371134)\n",
      "('天蠍座', 3.0844036697247708)\n"
     ]
    },
    {
     "data": {
      "text/html": [
       "<h4>後三名</h4>"
      ]
     },
     "metadata": {},
     "output_type": "display_data"
    },
    {
     "name": "stdout",
     "output_type": "stream",
     "text": [
      "('牡羊座', 2.8650371944739637)\n",
      "('射手座', 2.899421965317919)\n",
      "('水瓶座', 2.9160975609756097)\n",
      "\n",
      "\n",
      "\n"
     ]
    }
   ],
   "source": [
    "maxAttrSign(starSignAttr, 3)"
   ]
  },
  {
   "cell_type": "markdown",
   "metadata": {},
   "source": [
    "## 他人眼中的xx座"
   ]
  },
  {
   "cell_type": "markdown",
   "metadata": {},
   "source": [
    "### 資料總數"
   ]
  },
  {
   "cell_type": "code",
   "execution_count": 14,
   "metadata": {},
   "outputs": [
    {
     "name": "stdout",
     "output_type": "stream",
     "text": [
      "757 份\n",
      "\n"
     ]
    }
   ],
   "source": [
    "print('%d 份\\n' % other_total)"
   ]
  },
  {
   "cell_type": "markdown",
   "metadata": {},
   "source": [
    "#### 各星座資料數"
   ]
  },
  {
   "cell_type": "code",
   "execution_count": 15,
   "metadata": {},
   "outputs": [
    {
     "name": "stdout",
     "output_type": "stream",
     "text": [
      "摩羯座 = 82\n",
      "水瓶座 = 58\n",
      "雙魚座 = 57\n",
      "牡羊座 = 55\n",
      "金牛座 = 43\n",
      "雙子座 = 57\n",
      "巨蟹座 = 64\n",
      "獅子座 = 49\n",
      "處女座 = 60\n",
      "天秤座 = 68\n",
      "天蠍座 = 105\n",
      "射手座 = 59\n"
     ]
    }
   ],
   "source": [
    "for i in range(1, 13):\n",
    "    print(getSignName(i) + ' = %d' % len(otherSignData[getSignName(i)]))"
   ]
  },
  {
   "cell_type": "code",
   "execution_count": 16,
   "metadata": {},
   "outputs": [],
   "source": [
    "# 計算各星座的特質\n",
    "calAttr(otherSignAttr, otherSignData)"
   ]
  },
  {
   "cell_type": "markdown",
   "metadata": {},
   "source": [
    "### 每個星座前五高的特質"
   ]
  },
  {
   "cell_type": "code",
   "execution_count": 17,
   "metadata": {},
   "outputs": [
    {
     "data": {
      "text/html": [
       "<h3>摩羯座</h3>"
      ]
     },
     "metadata": {},
     "output_type": "display_data"
    },
    {
     "name": "stdout",
     "output_type": "stream",
     "text": [
      "('冷靜', 3.975609756097561)\n",
      "('顧家', 3.841463414634146)\n",
      "('與眾不同', 3.8048780487804876)\n",
      "('有魅力', 3.7439024390243905)\n",
      "('體貼', 3.6463414634146343)\n",
      "\n",
      "\n",
      "\n"
     ]
    },
    {
     "data": {
      "text/html": [
       "<h3>水瓶座</h3>"
      ]
     },
     "metadata": {},
     "output_type": "display_data"
    },
    {
     "name": "stdout",
     "output_type": "stream",
     "text": [
      "('與眾不同', 4.051724137931035)\n",
      "('創意', 3.8793103448275863)\n",
      "('有魅力', 3.793103448275862)\n",
      "('口才', 3.7758620689655173)\n",
      "('冷靜', 3.706896551724138)\n",
      "\n",
      "\n",
      "\n"
     ]
    },
    {
     "data": {
      "text/html": [
       "<h3>雙魚座</h3>"
      ]
     },
     "metadata": {},
     "output_type": "display_data"
    },
    {
     "name": "stdout",
     "output_type": "stream",
     "text": [
      "('口才', 3.807017543859649)\n",
      "('體貼', 3.736842105263158)\n",
      "('心思細膩', 3.719298245614035)\n",
      "('有魅力', 3.719298245614035)\n",
      "('愛面子', 3.6315789473684212)\n",
      "\n",
      "\n",
      "\n"
     ]
    },
    {
     "data": {
      "text/html": [
       "<h3>牡羊座</h3>"
      ]
     },
     "metadata": {},
     "output_type": "display_data"
    },
    {
     "name": "stdout",
     "output_type": "stream",
     "text": [
      "('正義感', 3.8)\n",
      "('與眾不同', 3.7818181818181817)\n",
      "('愛面子', 3.7454545454545456)\n",
      "('幼稚', 3.727272727272727)\n",
      "('有魅力', 3.6363636363636362)\n",
      "\n",
      "\n",
      "\n"
     ]
    },
    {
     "data": {
      "text/html": [
       "<h3>金牛座</h3>"
      ]
     },
     "metadata": {},
     "output_type": "display_data"
    },
    {
     "name": "stdout",
     "output_type": "stream",
     "text": [
      "('與眾不同', 4.0)\n",
      "('口才', 3.813953488372093)\n",
      "('體貼', 3.813953488372093)\n",
      "('冷靜', 3.7906976744186047)\n",
      "('顧家', 3.7209302325581395)\n",
      "\n",
      "\n",
      "\n"
     ]
    },
    {
     "data": {
      "text/html": [
       "<h3>雙子座</h3>"
      ]
     },
     "metadata": {},
     "output_type": "display_data"
    },
    {
     "name": "stdout",
     "output_type": "stream",
     "text": [
      "('口才', 3.8596491228070176)\n",
      "('活潑', 3.807017543859649)\n",
      "('創意', 3.789473684210526)\n",
      "('有魅力', 3.789473684210526)\n",
      "('體貼', 3.6140350877192984)\n",
      "\n",
      "\n",
      "\n"
     ]
    },
    {
     "data": {
      "text/html": [
       "<h3>巨蟹座</h3>"
      ]
     },
     "metadata": {},
     "output_type": "display_data"
    },
    {
     "name": "stdout",
     "output_type": "stream",
     "text": [
      "('顧家', 4.234375)\n",
      "('體貼', 3.671875)\n",
      "('心思細膩', 3.640625)\n",
      "('愛面子', 3.53125)\n",
      "('優柔寡斷', 3.515625)\n",
      "\n",
      "\n",
      "\n"
     ]
    },
    {
     "data": {
      "text/html": [
       "<h3>獅子座</h3>"
      ]
     },
     "metadata": {},
     "output_type": "display_data"
    },
    {
     "name": "stdout",
     "output_type": "stream",
     "text": [
      "('愛面子', 4.3061224489795915)\n",
      "('強勢', 4.020408163265306)\n",
      "('活潑', 3.877551020408163)\n",
      "('有魅力', 3.7551020408163267)\n",
      "('正義感', 3.693877551020408)\n",
      "\n",
      "\n",
      "\n"
     ]
    },
    {
     "data": {
      "text/html": [
       "<h3>處女座</h3>"
      ]
     },
     "metadata": {},
     "output_type": "display_data"
    },
    {
     "name": "stdout",
     "output_type": "stream",
     "text": [
      "('愛面子', 3.95)\n",
      "('完美主義', 3.9166666666666665)\n",
      "('冷靜', 3.9166666666666665)\n",
      "('心思細膩', 3.816666666666667)\n",
      "('有魅力', 3.816666666666667)\n",
      "\n",
      "\n",
      "\n"
     ]
    },
    {
     "data": {
      "text/html": [
       "<h3>天秤座</h3>"
      ]
     },
     "metadata": {},
     "output_type": "display_data"
    },
    {
     "name": "stdout",
     "output_type": "stream",
     "text": [
      "('口才', 3.764705882352941)\n",
      "('有魅力', 3.764705882352941)\n",
      "('體貼', 3.6911764705882355)\n",
      "('優柔寡斷', 3.6176470588235294)\n",
      "('正義感', 3.6029411764705883)\n",
      "\n",
      "\n",
      "\n"
     ]
    },
    {
     "data": {
      "text/html": [
       "<h3>天蠍座</h3>"
      ]
     },
     "metadata": {},
     "output_type": "display_data"
    },
    {
     "name": "stdout",
     "output_type": "stream",
     "text": [
      "('有魅力', 3.9238095238095236)\n",
      "('愛面子', 3.857142857142857)\n",
      "('心思細膩', 3.8)\n",
      "('體貼', 3.780952380952381)\n",
      "('強勢', 3.6095238095238096)\n",
      "\n",
      "\n",
      "\n"
     ]
    },
    {
     "data": {
      "text/html": [
       "<h3>射手座</h3>"
      ]
     },
     "metadata": {},
     "output_type": "display_data"
    },
    {
     "name": "stdout",
     "output_type": "stream",
     "text": [
      "('與眾不同', 3.847457627118644)\n",
      "('活潑', 3.7966101694915255)\n",
      "('有魅力', 3.76271186440678)\n",
      "('正義感', 3.6779661016949152)\n",
      "('創意', 3.6610169491525424)\n",
      "\n",
      "\n",
      "\n"
     ]
    }
   ],
   "source": [
    "highestAttr(otherSignAttr, 5)"
   ]
  },
  {
   "cell_type": "markdown",
   "metadata": {},
   "source": [
    "### 每個特質最低與最高的三個星座"
   ]
  },
  {
   "cell_type": "code",
   "execution_count": 18,
   "metadata": {},
   "outputs": [
    {
     "data": {
      "text/html": [
       "<h3>耐性</h3>"
      ]
     },
     "metadata": {},
     "output_type": "display_data"
    },
    {
     "data": {
      "text/html": [
       "<h4>前三名</h4>"
      ]
     },
     "metadata": {},
     "output_type": "display_data"
    },
    {
     "name": "stdout",
     "output_type": "stream",
     "text": [
      "('金牛座', 3.604651162790698)\n",
      "('摩羯座', 3.5609756097560976)\n",
      "('巨蟹座', 3.4375)\n"
     ]
    },
    {
     "data": {
      "text/html": [
       "<h4>後三名</h4>"
      ]
     },
     "metadata": {},
     "output_type": "display_data"
    },
    {
     "name": "stdout",
     "output_type": "stream",
     "text": [
      "('水瓶座', 2.896551724137931)\n",
      "('牡羊座', 2.909090909090909)\n",
      "('射手座', 3.0)\n",
      "\n",
      "\n",
      "\n"
     ]
    },
    {
     "data": {
      "text/html": [
       "<h3>脾氣暴躁</h3>"
      ]
     },
     "metadata": {},
     "output_type": "display_data"
    },
    {
     "data": {
      "text/html": [
       "<h4>前三名</h4>"
      ]
     },
     "metadata": {},
     "output_type": "display_data"
    },
    {
     "name": "stdout",
     "output_type": "stream",
     "text": [
      "('牡羊座', 3.1818181818181817)\n",
      "('水瓶座', 3.0517241379310347)\n",
      "('獅子座', 3.020408163265306)\n"
     ]
    },
    {
     "data": {
      "text/html": [
       "<h4>後三名</h4>"
      ]
     },
     "metadata": {},
     "output_type": "display_data"
    },
    {
     "name": "stdout",
     "output_type": "stream",
     "text": [
      "('金牛座', 2.4186046511627906)\n",
      "('天秤座', 2.5441176470588234)\n",
      "('雙子座', 2.56140350877193)\n",
      "\n",
      "\n",
      "\n"
     ]
    },
    {
     "data": {
      "text/html": [
       "<h3>幼稚</h3>"
      ]
     },
     "metadata": {},
     "output_type": "display_data"
    },
    {
     "data": {
      "text/html": [
       "<h4>前三名</h4>"
      ]
     },
     "metadata": {},
     "output_type": "display_data"
    },
    {
     "name": "stdout",
     "output_type": "stream",
     "text": [
      "('牡羊座', 3.727272727272727)\n",
      "('雙子座', 3.543859649122807)\n",
      "('射手座', 3.4745762711864407)\n"
     ]
    },
    {
     "data": {
      "text/html": [
       "<h4>後三名</h4>"
      ]
     },
     "metadata": {},
     "output_type": "display_data"
    },
    {
     "name": "stdout",
     "output_type": "stream",
     "text": [
      "('金牛座', 2.5813953488372094)\n",
      "('天蠍座', 3.0)\n",
      "('處女座', 3.05)\n",
      "\n",
      "\n",
      "\n"
     ]
    },
    {
     "data": {
      "text/html": [
       "<h3>頑固</h3>"
      ]
     },
     "metadata": {},
     "output_type": "display_data"
    },
    {
     "data": {
      "text/html": [
       "<h4>前三名</h4>"
      ]
     },
     "metadata": {},
     "output_type": "display_data"
    },
    {
     "name": "stdout",
     "output_type": "stream",
     "text": [
      "('水瓶座', 3.4482758620689653)\n",
      "('金牛座', 3.4186046511627906)\n",
      "('處女座', 3.4166666666666665)\n"
     ]
    },
    {
     "data": {
      "text/html": [
       "<h4>後三名</h4>"
      ]
     },
     "metadata": {},
     "output_type": "display_data"
    },
    {
     "name": "stdout",
     "output_type": "stream",
     "text": [
      "('天秤座', 2.838235294117647)\n",
      "('雙魚座', 2.9649122807017543)\n",
      "('雙子座', 3.017543859649123)\n",
      "\n",
      "\n",
      "\n"
     ]
    },
    {
     "data": {
      "text/html": [
       "<h3>心思細膩</h3>"
      ]
     },
     "metadata": {},
     "output_type": "display_data"
    },
    {
     "data": {
      "text/html": [
       "<h4>前三名</h4>"
      ]
     },
     "metadata": {},
     "output_type": "display_data"
    },
    {
     "name": "stdout",
     "output_type": "stream",
     "text": [
      "('處女座', 3.816666666666667)\n",
      "('天蠍座', 3.8)\n",
      "('雙魚座', 3.719298245614035)\n"
     ]
    },
    {
     "data": {
      "text/html": [
       "<h4>後三名</h4>"
      ]
     },
     "metadata": {},
     "output_type": "display_data"
    },
    {
     "name": "stdout",
     "output_type": "stream",
     "text": [
      "('牡羊座', 2.690909090909091)\n",
      "('雙子座', 3.087719298245614)\n",
      "('射手座', 3.1016949152542375)\n",
      "\n",
      "\n",
      "\n"
     ]
    },
    {
     "data": {
      "text/html": [
       "<h3>保守</h3>"
      ]
     },
     "metadata": {},
     "output_type": "display_data"
    },
    {
     "data": {
      "text/html": [
       "<h4>前三名</h4>"
      ]
     },
     "metadata": {},
     "output_type": "display_data"
    },
    {
     "name": "stdout",
     "output_type": "stream",
     "text": [
      "('摩羯座', 3.317073170731707)\n",
      "('巨蟹座', 3.203125)\n",
      "('處女座', 3.1)\n"
     ]
    },
    {
     "data": {
      "text/html": [
       "<h4>後三名</h4>"
      ]
     },
     "metadata": {},
     "output_type": "display_data"
    },
    {
     "name": "stdout",
     "output_type": "stream",
     "text": [
      "('雙魚座', 2.508771929824561)\n",
      "('牡羊座', 2.5272727272727273)\n",
      "('水瓶座', 2.603448275862069)\n",
      "\n",
      "\n",
      "\n"
     ]
    },
    {
     "data": {
      "text/html": [
       "<h3>冷靜</h3>"
      ]
     },
     "metadata": {},
     "output_type": "display_data"
    },
    {
     "data": {
      "text/html": [
       "<h4>前三名</h4>"
      ]
     },
     "metadata": {},
     "output_type": "display_data"
    },
    {
     "name": "stdout",
     "output_type": "stream",
     "text": [
      "('摩羯座', 3.975609756097561)\n",
      "('處女座', 3.9166666666666665)\n",
      "('金牛座', 3.7906976744186047)\n"
     ]
    },
    {
     "data": {
      "text/html": [
       "<h4>後三名</h4>"
      ]
     },
     "metadata": {},
     "output_type": "display_data"
    },
    {
     "name": "stdout",
     "output_type": "stream",
     "text": [
      "('射手座', 3.0847457627118646)\n",
      "('雙魚座', 3.210526315789474)\n",
      "('牡羊座', 3.2363636363636363)\n",
      "\n",
      "\n",
      "\n"
     ]
    },
    {
     "data": {
      "text/html": [
       "<h3>樂觀</h3>"
      ]
     },
     "metadata": {},
     "output_type": "display_data"
    },
    {
     "data": {
      "text/html": [
       "<h4>前三名</h4>"
      ]
     },
     "metadata": {},
     "output_type": "display_data"
    },
    {
     "name": "stdout",
     "output_type": "stream",
     "text": [
      "('獅子座', 3.6530612244897958)\n",
      "('射手座', 3.610169491525424)\n",
      "('牡羊座', 3.4727272727272727)\n"
     ]
    },
    {
     "data": {
      "text/html": [
       "<h4>後三名</h4>"
      ]
     },
     "metadata": {},
     "output_type": "display_data"
    },
    {
     "name": "stdout",
     "output_type": "stream",
     "text": [
      "('巨蟹座', 2.796875)\n",
      "('雙魚座', 2.824561403508772)\n",
      "('處女座', 2.8833333333333333)\n",
      "\n",
      "\n",
      "\n"
     ]
    },
    {
     "data": {
      "text/html": [
       "<h3>活潑</h3>"
      ]
     },
     "metadata": {},
     "output_type": "display_data"
    },
    {
     "data": {
      "text/html": [
       "<h4>前三名</h4>"
      ]
     },
     "metadata": {},
     "output_type": "display_data"
    },
    {
     "name": "stdout",
     "output_type": "stream",
     "text": [
      "('獅子座', 3.877551020408163)\n",
      "('雙子座', 3.807017543859649)\n",
      "('射手座', 3.7966101694915255)\n"
     ]
    },
    {
     "data": {
      "text/html": [
       "<h4>後三名</h4>"
      ]
     },
     "metadata": {},
     "output_type": "display_data"
    },
    {
     "name": "stdout",
     "output_type": "stream",
     "text": [
      "('巨蟹座', 3.15625)\n",
      "('摩羯座', 3.158536585365854)\n",
      "('天秤座', 3.323529411764706)\n",
      "\n",
      "\n",
      "\n"
     ]
    },
    {
     "data": {
      "text/html": [
       "<h3>公正</h3>"
      ]
     },
     "metadata": {},
     "output_type": "display_data"
    },
    {
     "data": {
      "text/html": [
       "<h4>前三名</h4>"
      ]
     },
     "metadata": {},
     "output_type": "display_data"
    },
    {
     "name": "stdout",
     "output_type": "stream",
     "text": [
      "('處女座', 3.6)\n",
      "('摩羯座', 3.5609756097560976)\n",
      "('天秤座', 3.5294117647058822)\n"
     ]
    },
    {
     "data": {
      "text/html": [
       "<h4>後三名</h4>"
      ]
     },
     "metadata": {},
     "output_type": "display_data"
    },
    {
     "name": "stdout",
     "output_type": "stream",
     "text": [
      "('水瓶座', 3.2413793103448274)\n",
      "('雙魚座', 3.263157894736842)\n",
      "('射手座', 3.288135593220339)\n",
      "\n",
      "\n",
      "\n"
     ]
    },
    {
     "data": {
      "text/html": [
       "<h3>優柔寡斷</h3>"
      ]
     },
     "metadata": {},
     "output_type": "display_data"
    },
    {
     "data": {
      "text/html": [
       "<h4>前三名</h4>"
      ]
     },
     "metadata": {},
     "output_type": "display_data"
    },
    {
     "name": "stdout",
     "output_type": "stream",
     "text": [
      "('天秤座', 3.6176470588235294)\n",
      "('巨蟹座', 3.515625)\n",
      "('處女座', 3.2666666666666666)\n"
     ]
    },
    {
     "data": {
      "text/html": [
       "<h4>後三名</h4>"
      ]
     },
     "metadata": {},
     "output_type": "display_data"
    },
    {
     "name": "stdout",
     "output_type": "stream",
     "text": [
      "('射手座', 2.6271186440677967)\n",
      "('獅子座', 2.7142857142857144)\n",
      "('金牛座', 2.7674418604651163)\n",
      "\n",
      "\n",
      "\n"
     ]
    },
    {
     "data": {
      "text/html": [
       "<h3>強勢</h3>"
      ]
     },
     "metadata": {},
     "output_type": "display_data"
    },
    {
     "data": {
      "text/html": [
       "<h4>前三名</h4>"
      ]
     },
     "metadata": {},
     "output_type": "display_data"
    },
    {
     "name": "stdout",
     "output_type": "stream",
     "text": [
      "('獅子座', 4.020408163265306)\n",
      "('處女座', 3.6666666666666665)\n",
      "('天蠍座', 3.6095238095238096)\n"
     ]
    },
    {
     "data": {
      "text/html": [
       "<h4>後三名</h4>"
      ]
     },
     "metadata": {},
     "output_type": "display_data"
    },
    {
     "name": "stdout",
     "output_type": "stream",
     "text": [
      "('巨蟹座', 2.96875)\n",
      "('雙魚座', 3.1403508771929824)\n",
      "('金牛座', 3.2790697674418605)\n",
      "\n",
      "\n",
      "\n"
     ]
    },
    {
     "data": {
      "text/html": [
       "<h3>浪漫</h3>"
      ]
     },
     "metadata": {},
     "output_type": "display_data"
    },
    {
     "data": {
      "text/html": [
       "<h4>前三名</h4>"
      ]
     },
     "metadata": {},
     "output_type": "display_data"
    },
    {
     "name": "stdout",
     "output_type": "stream",
     "text": [
      "('雙魚座', 3.175438596491228)\n",
      "('雙子座', 3.1228070175438596)\n",
      "('巨蟹座', 2.9375)\n"
     ]
    },
    {
     "data": {
      "text/html": [
       "<h4>後三名</h4>"
      ]
     },
     "metadata": {},
     "output_type": "display_data"
    },
    {
     "name": "stdout",
     "output_type": "stream",
     "text": [
      "('摩羯座', 2.2439024390243905)\n",
      "('金牛座', 2.3488372093023258)\n",
      "('水瓶座', 2.6206896551724137)\n",
      "\n",
      "\n",
      "\n"
     ]
    },
    {
     "data": {
      "text/html": [
       "<h3>過度理想化</h3>"
      ]
     },
     "metadata": {},
     "output_type": "display_data"
    },
    {
     "data": {
      "text/html": [
       "<h4>前三名</h4>"
      ]
     },
     "metadata": {},
     "output_type": "display_data"
    },
    {
     "name": "stdout",
     "output_type": "stream",
     "text": [
      "('雙魚座', 3.175438596491228)\n",
      "('巨蟹座', 2.875)\n",
      "('水瓶座', 2.8275862068965516)\n"
     ]
    },
    {
     "data": {
      "text/html": [
       "<h4>後三名</h4>"
      ]
     },
     "metadata": {},
     "output_type": "display_data"
    },
    {
     "name": "stdout",
     "output_type": "stream",
     "text": [
      "('摩羯座', 2.073170731707317)\n",
      "('金牛座', 2.186046511627907)\n",
      "('天蠍座', 2.2285714285714286)\n",
      "\n",
      "\n",
      "\n"
     ]
    },
    {
     "data": {
      "text/html": [
       "<h3>斤斤計較</h3>"
      ]
     },
     "metadata": {},
     "output_type": "display_data"
    },
    {
     "data": {
      "text/html": [
       "<h4>前三名</h4>"
      ]
     },
     "metadata": {},
     "output_type": "display_data"
    },
    {
     "name": "stdout",
     "output_type": "stream",
     "text": [
      "('金牛座', 2.8372093023255816)\n",
      "('處女座', 2.7333333333333334)\n",
      "('牡羊座', 2.6)\n"
     ]
    },
    {
     "data": {
      "text/html": [
       "<h4>後三名</h4>"
      ]
     },
     "metadata": {},
     "output_type": "display_data"
    },
    {
     "name": "stdout",
     "output_type": "stream",
     "text": [
      "('獅子座', 2.183673469387755)\n",
      "('雙魚座', 2.2982456140350878)\n",
      "('天秤座', 2.3088235294117645)\n",
      "\n",
      "\n",
      "\n"
     ]
    },
    {
     "data": {
      "text/html": [
       "<h3>心機重</h3>"
      ]
     },
     "metadata": {},
     "output_type": "display_data"
    },
    {
     "data": {
      "text/html": [
       "<h4>前三名</h4>"
      ]
     },
     "metadata": {},
     "output_type": "display_data"
    },
    {
     "name": "stdout",
     "output_type": "stream",
     "text": [
      "('天蠍座', 2.7714285714285714)\n",
      "('雙魚座', 2.6842105263157894)\n",
      "('水瓶座', 2.5517241379310347)\n"
     ]
    },
    {
     "data": {
      "text/html": [
       "<h4>後三名</h4>"
      ]
     },
     "metadata": {},
     "output_type": "display_data"
    },
    {
     "name": "stdout",
     "output_type": "stream",
     "text": [
      "('牡羊座', 2.0545454545454547)\n",
      "('獅子座', 2.163265306122449)\n",
      "('射手座', 2.169491525423729)\n",
      "\n",
      "\n",
      "\n"
     ]
    },
    {
     "data": {
      "text/html": [
       "<h3>完美主義</h3>"
      ]
     },
     "metadata": {},
     "output_type": "display_data"
    },
    {
     "data": {
      "text/html": [
       "<h4>前三名</h4>"
      ]
     },
     "metadata": {},
     "output_type": "display_data"
    },
    {
     "name": "stdout",
     "output_type": "stream",
     "text": [
      "('處女座', 3.9166666666666665)\n",
      "('摩羯座', 3.292682926829268)\n",
      "('天秤座', 3.073529411764706)\n"
     ]
    },
    {
     "data": {
      "text/html": [
       "<h4>後三名</h4>"
      ]
     },
     "metadata": {},
     "output_type": "display_data"
    },
    {
     "name": "stdout",
     "output_type": "stream",
     "text": [
      "('牡羊座', 2.6363636363636362)\n",
      "('射手座', 2.7288135593220337)\n",
      "('雙魚座', 2.807017543859649)\n",
      "\n",
      "\n",
      "\n"
     ]
    },
    {
     "data": {
      "text/html": [
       "<h3>愛計仇</h3>"
      ]
     },
     "metadata": {},
     "output_type": "display_data"
    },
    {
     "data": {
      "text/html": [
       "<h4>前三名</h4>"
      ]
     },
     "metadata": {},
     "output_type": "display_data"
    },
    {
     "name": "stdout",
     "output_type": "stream",
     "text": [
      "('天蠍座', 3.323809523809524)\n",
      "('巨蟹座', 2.96875)\n",
      "('摩羯座', 2.926829268292683)\n"
     ]
    },
    {
     "data": {
      "text/html": [
       "<h4>後三名</h4>"
      ]
     },
     "metadata": {},
     "output_type": "display_data"
    },
    {
     "name": "stdout",
     "output_type": "stream",
     "text": [
      "('射手座', 2.3559322033898304)\n",
      "('牡羊座', 2.4363636363636365)\n",
      "('水瓶座', 2.6206896551724137)\n",
      "\n",
      "\n",
      "\n"
     ]
    },
    {
     "data": {
      "text/html": [
       "<h3>與眾不同</h3>"
      ]
     },
     "metadata": {},
     "output_type": "display_data"
    },
    {
     "data": {
      "text/html": [
       "<h4>前三名</h4>"
      ]
     },
     "metadata": {},
     "output_type": "display_data"
    },
    {
     "name": "stdout",
     "output_type": "stream",
     "text": [
      "('水瓶座', 4.051724137931035)\n",
      "('金牛座', 4.0)\n",
      "('射手座', 3.847457627118644)\n"
     ]
    },
    {
     "data": {
      "text/html": [
       "<h4>後三名</h4>"
      ]
     },
     "metadata": {},
     "output_type": "display_data"
    },
    {
     "name": "stdout",
     "output_type": "stream",
     "text": [
      "('巨蟹座', 3.25)\n",
      "('雙子座', 3.4210526315789473)\n",
      "('雙魚座', 3.43859649122807)\n",
      "\n",
      "\n",
      "\n"
     ]
    },
    {
     "data": {
      "text/html": [
       "<h3>愛面子</h3>"
      ]
     },
     "metadata": {},
     "output_type": "display_data"
    },
    {
     "data": {
      "text/html": [
       "<h4>前三名</h4>"
      ]
     },
     "metadata": {},
     "output_type": "display_data"
    },
    {
     "name": "stdout",
     "output_type": "stream",
     "text": [
      "('獅子座', 4.3061224489795915)\n",
      "('處女座', 3.95)\n",
      "('天蠍座', 3.857142857142857)\n"
     ]
    },
    {
     "data": {
      "text/html": [
       "<h4>後三名</h4>"
      ]
     },
     "metadata": {},
     "output_type": "display_data"
    },
    {
     "name": "stdout",
     "output_type": "stream",
     "text": [
      "('射手座', 3.288135593220339)\n",
      "('巨蟹座', 3.53125)\n",
      "('雙子座', 3.543859649122807)\n",
      "\n",
      "\n",
      "\n"
     ]
    },
    {
     "data": {
      "text/html": [
       "<h3>有魅力</h3>"
      ]
     },
     "metadata": {},
     "output_type": "display_data"
    },
    {
     "data": {
      "text/html": [
       "<h4>前三名</h4>"
      ]
     },
     "metadata": {},
     "output_type": "display_data"
    },
    {
     "name": "stdout",
     "output_type": "stream",
     "text": [
      "('天蠍座', 3.9238095238095236)\n",
      "('處女座', 3.816666666666667)\n",
      "('水瓶座', 3.793103448275862)\n"
     ]
    },
    {
     "data": {
      "text/html": [
       "<h4>後三名</h4>"
      ]
     },
     "metadata": {},
     "output_type": "display_data"
    },
    {
     "name": "stdout",
     "output_type": "stream",
     "text": [
      "('巨蟹座', 3.390625)\n",
      "('金牛座', 3.488372093023256)\n",
      "('牡羊座', 3.6363636363636362)\n",
      "\n",
      "\n",
      "\n"
     ]
    },
    {
     "data": {
      "text/html": [
       "<h3>正義感</h3>"
      ]
     },
     "metadata": {},
     "output_type": "display_data"
    },
    {
     "data": {
      "text/html": [
       "<h4>前三名</h4>"
      ]
     },
     "metadata": {},
     "output_type": "display_data"
    },
    {
     "name": "stdout",
     "output_type": "stream",
     "text": [
      "('牡羊座', 3.8)\n",
      "('金牛座', 3.697674418604651)\n",
      "('獅子座', 3.693877551020408)\n"
     ]
    },
    {
     "data": {
      "text/html": [
       "<h4>後三名</h4>"
      ]
     },
     "metadata": {},
     "output_type": "display_data"
    },
    {
     "name": "stdout",
     "output_type": "stream",
     "text": [
      "('巨蟹座', 3.46875)\n",
      "('雙子座', 3.508771929824561)\n",
      "('天蠍座', 3.5142857142857142)\n",
      "\n",
      "\n",
      "\n"
     ]
    },
    {
     "data": {
      "text/html": [
       "<h3>重視友情</h3>"
      ]
     },
     "metadata": {},
     "output_type": "display_data"
    },
    {
     "data": {
      "text/html": [
       "<h4>前三名</h4>"
      ]
     },
     "metadata": {},
     "output_type": "display_data"
    },
    {
     "name": "stdout",
     "output_type": "stream",
     "text": [
      "('水瓶座', 4.224137931034483)\n",
      "('射手座', 4.169491525423729)\n",
      "('天秤座', 4.102941176470588)\n"
     ]
    },
    {
     "data": {
      "text/html": [
       "<h4>後三名</h4>"
      ]
     },
     "metadata": {},
     "output_type": "display_data"
    },
    {
     "name": "stdout",
     "output_type": "stream",
     "text": [
      "('雙子座', 3.824561403508772)\n",
      "('巨蟹座', 3.828125)\n",
      "('金牛座', 3.8372093023255816)\n",
      "\n",
      "\n",
      "\n"
     ]
    },
    {
     "data": {
      "text/html": [
       "<h3>專情</h3>"
      ]
     },
     "metadata": {},
     "output_type": "display_data"
    },
    {
     "data": {
      "text/html": [
       "<h4>前三名</h4>"
      ]
     },
     "metadata": {},
     "output_type": "display_data"
    },
    {
     "name": "stdout",
     "output_type": "stream",
     "text": [
      "('天蠍座', 4.238095238095238)\n",
      "('巨蟹座', 4.125)\n",
      "('金牛座', 4.116279069767442)\n"
     ]
    },
    {
     "data": {
      "text/html": [
       "<h4>後三名</h4>"
      ]
     },
     "metadata": {},
     "output_type": "display_data"
    },
    {
     "name": "stdout",
     "output_type": "stream",
     "text": [
      "('雙魚座', 3.3508771929824563)\n",
      "('射手座', 3.5084745762711864)\n",
      "('雙子座', 3.6315789473684212)\n",
      "\n",
      "\n",
      "\n"
     ]
    },
    {
     "data": {
      "text/html": [
       "<h3>愛哭</h3>"
      ]
     },
     "metadata": {},
     "output_type": "display_data"
    },
    {
     "data": {
      "text/html": [
       "<h4>前三名</h4>"
      ]
     },
     "metadata": {},
     "output_type": "display_data"
    },
    {
     "name": "stdout",
     "output_type": "stream",
     "text": [
      "('雙魚座', 3.0)\n",
      "('射手座', 2.7457627118644066)\n",
      "('天蠍座', 2.638095238095238)\n"
     ]
    },
    {
     "data": {
      "text/html": [
       "<h4>後三名</h4>"
      ]
     },
     "metadata": {},
     "output_type": "display_data"
    },
    {
     "name": "stdout",
     "output_type": "stream",
     "text": [
      "('處女座', 2.1333333333333333)\n",
      "('摩羯座', 2.3048780487804876)\n",
      "('水瓶座', 2.3275862068965516)\n",
      "\n",
      "\n",
      "\n"
     ]
    },
    {
     "data": {
      "text/html": [
       "<h3>顧家</h3>"
      ]
     },
     "metadata": {},
     "output_type": "display_data"
    },
    {
     "data": {
      "text/html": [
       "<h4>前三名</h4>"
      ]
     },
     "metadata": {},
     "output_type": "display_data"
    },
    {
     "name": "stdout",
     "output_type": "stream",
     "text": [
      "('巨蟹座', 4.234375)\n",
      "('摩羯座', 3.841463414634146)\n",
      "('金牛座', 3.7209302325581395)\n"
     ]
    },
    {
     "data": {
      "text/html": [
       "<h4>後三名</h4>"
      ]
     },
     "metadata": {},
     "output_type": "display_data"
    },
    {
     "name": "stdout",
     "output_type": "stream",
     "text": [
      "('射手座', 3.1186440677966103)\n",
      "('牡羊座', 3.2)\n",
      "('獅子座', 3.306122448979592)\n",
      "\n",
      "\n",
      "\n"
     ]
    },
    {
     "data": {
      "text/html": [
       "<h3>體貼</h3>"
      ]
     },
     "metadata": {},
     "output_type": "display_data"
    },
    {
     "data": {
      "text/html": [
       "<h4>前三名</h4>"
      ]
     },
     "metadata": {},
     "output_type": "display_data"
    },
    {
     "name": "stdout",
     "output_type": "stream",
     "text": [
      "('金牛座', 3.813953488372093)\n",
      "('天蠍座', 3.780952380952381)\n",
      "('雙魚座', 3.736842105263158)\n"
     ]
    },
    {
     "data": {
      "text/html": [
       "<h4>後三名</h4>"
      ]
     },
     "metadata": {},
     "output_type": "display_data"
    },
    {
     "name": "stdout",
     "output_type": "stream",
     "text": [
      "('牡羊座', 3.327272727272727)\n",
      "('獅子座', 3.4081632653061225)\n",
      "('射手座', 3.542372881355932)\n",
      "\n",
      "\n",
      "\n"
     ]
    },
    {
     "data": {
      "text/html": [
       "<h3>情緒化</h3>"
      ]
     },
     "metadata": {},
     "output_type": "display_data"
    },
    {
     "data": {
      "text/html": [
       "<h4>前三名</h4>"
      ]
     },
     "metadata": {},
     "output_type": "display_data"
    },
    {
     "name": "stdout",
     "output_type": "stream",
     "text": [
      "('雙魚座', 3.56140350877193)\n",
      "('射手座', 3.3220338983050848)\n",
      "('巨蟹座', 3.3125)\n"
     ]
    },
    {
     "data": {
      "text/html": [
       "<h4>後三名</h4>"
      ]
     },
     "metadata": {},
     "output_type": "display_data"
    },
    {
     "name": "stdout",
     "output_type": "stream",
     "text": [
      "('摩羯座', 2.6951219512195124)\n",
      "('處女座', 2.783333333333333)\n",
      "('天秤座', 2.8529411764705883)\n",
      "\n",
      "\n",
      "\n"
     ]
    },
    {
     "data": {
      "text/html": [
       "<h3>口才</h3>"
      ]
     },
     "metadata": {},
     "output_type": "display_data"
    },
    {
     "data": {
      "text/html": [
       "<h4>前三名</h4>"
      ]
     },
     "metadata": {},
     "output_type": "display_data"
    },
    {
     "name": "stdout",
     "output_type": "stream",
     "text": [
      "('雙子座', 3.8596491228070176)\n",
      "('金牛座', 3.813953488372093)\n",
      "('雙魚座', 3.807017543859649)\n"
     ]
    },
    {
     "data": {
      "text/html": [
       "<h4>後三名</h4>"
      ]
     },
     "metadata": {},
     "output_type": "display_data"
    },
    {
     "name": "stdout",
     "output_type": "stream",
     "text": [
      "('巨蟹座', 3.1875)\n",
      "('射手座', 3.440677966101695)\n",
      "('牡羊座', 3.4545454545454546)\n",
      "\n",
      "\n",
      "\n"
     ]
    },
    {
     "data": {
      "text/html": [
       "<h3>創意</h3>"
      ]
     },
     "metadata": {},
     "output_type": "display_data"
    },
    {
     "data": {
      "text/html": [
       "<h4>前三名</h4>"
      ]
     },
     "metadata": {},
     "output_type": "display_data"
    },
    {
     "name": "stdout",
     "output_type": "stream",
     "text": [
      "('水瓶座', 3.8793103448275863)\n",
      "('雙子座', 3.789473684210526)\n",
      "('射手座', 3.6610169491525424)\n"
     ]
    },
    {
     "data": {
      "text/html": [
       "<h4>後三名</h4>"
      ]
     },
     "metadata": {},
     "output_type": "display_data"
    },
    {
     "name": "stdout",
     "output_type": "stream",
     "text": [
      "('牡羊座', 3.1636363636363636)\n",
      "('巨蟹座', 3.171875)\n",
      "('天蠍座', 3.2857142857142856)\n",
      "\n",
      "\n",
      "\n"
     ]
    },
    {
     "data": {
      "text/html": [
       "<h3>潔癖</h3>"
      ]
     },
     "metadata": {},
     "output_type": "display_data"
    },
    {
     "data": {
      "text/html": [
       "<h4>前三名</h4>"
      ]
     },
     "metadata": {},
     "output_type": "display_data"
    },
    {
     "name": "stdout",
     "output_type": "stream",
     "text": [
      "('處女座', 3.7666666666666666)\n",
      "('雙魚座', 3.210526315789474)\n",
      "('巨蟹座', 3.203125)\n"
     ]
    },
    {
     "data": {
      "text/html": [
       "<h4>後三名</h4>"
      ]
     },
     "metadata": {},
     "output_type": "display_data"
    },
    {
     "name": "stdout",
     "output_type": "stream",
     "text": [
      "('牡羊座', 2.727272727272727)\n",
      "('天秤座', 2.926470588235294)\n",
      "('金牛座', 2.9767441860465116)\n",
      "\n",
      "\n",
      "\n"
     ]
    }
   ],
   "source": [
    "maxAttrSign(otherSignAttr, 3)"
   ]
  }
 ],
 "metadata": {
  "kernelspec": {
   "display_name": "Python 3",
   "language": "python",
   "name": "python3"
  },
  "language_info": {
   "codemirror_mode": {
    "name": "ipython",
    "version": 3
   },
   "file_extension": ".py",
   "mimetype": "text/x-python",
   "name": "python",
   "nbconvert_exporter": "python",
   "pygments_lexer": "ipython3",
   "version": "3.5.2"
  }
 },
 "nbformat": 4,
 "nbformat_minor": 2
}
