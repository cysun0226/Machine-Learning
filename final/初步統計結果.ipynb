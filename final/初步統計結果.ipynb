{
 "cells": [
  {
   "cell_type": "markdown",
   "metadata": {},
   "source": [
    "# 初步統計"
   ]
  },
  {
   "cell_type": "markdown",
   "metadata": {},
   "source": [
    "### 點這邊隱藏或顯示 code"
   ]
  },
  {
   "cell_type": "code",
   "execution_count": 17,
   "metadata": {},
   "outputs": [
    {
     "data": {
      "text/html": [
       "<button onclick=\"$('.input, .prompt, .output_stderr, .output_error').toggle();\">隱藏/顯示 Code</button>"
      ]
     },
     "metadata": {},
     "output_type": "display_data"
    }
   ],
   "source": [
    "from IPython.display import display_html\n",
    "display_html(\"\"\"<button onclick=\"$('.input, .prompt, .output_stderr, .output_error').toggle();\">隱藏/顯示 Code</button>\"\"\", raw=True)"
   ]
  },
  {
   "cell_type": "code",
   "execution_count": 2,
   "metadata": {},
   "outputs": [],
   "source": [
    "## import 和開檔\n",
    "\n",
    "import csv\n",
    "import math\n",
    "import sys\n",
    "import numpy as np\n",
    "from numpy import array\n",
    "from random import shuffle\n",
    "import operator\n",
    "# star_file = str(sys.argv[1])\n",
    "star_file = 'star.csv'\n",
    "lines = []\n",
    "data = []\n",
    "target = []\n"
   ]
  },
  {
   "cell_type": "code",
   "execution_count": 3,
   "metadata": {},
   "outputs": [],
   "source": [
    "# 兩個把星座名及特質名轉成數字的 function，方便 for loop 使用\n",
    "\n",
    "def getSignName(num):\n",
    "    return {\n",
    "        1 : '摩羯座',\n",
    "        2 : '水瓶座',\n",
    "        3 : '雙魚座',\n",
    "        4 : '牡羊座',\n",
    "        5 : '金牛座',\n",
    "        6 : '雙子座',\n",
    "        7 : '巨蟹座',\n",
    "        8 : '獅子座',\n",
    "        9 : '處女座',\n",
    "        10: '天秤座',\n",
    "        11: '天蠍座',\n",
    "        12: '射手座'\n",
    "    }[num]\n",
    "\n",
    "def getAttrName(num):\n",
    "    return {\n",
    "        1 : '耐性',\n",
    "        2 : '脾氣暴躁',\n",
    "        3 : '幼稚',\n",
    "        4 : '頑固',\n",
    "        5 : '心思細膩',\n",
    "        6 : '保守',\n",
    "        7 : '冷靜',\n",
    "        8 : '樂觀',\n",
    "        9 : '活潑',\n",
    "        10: '公正',\n",
    "        11: '優柔寡斷',\n",
    "        12: '強勢',\n",
    "        13: '浪漫',\n",
    "        14: '過度理想化',\n",
    "        15: '斤斤計較',\n",
    "        16: '心機重',\n",
    "        17: '完美主義',\n",
    "        18: '愛計仇',\n",
    "        19: '與眾不同',\n",
    "        20: '愛面子',\n",
    "        21: '有魅力',\n",
    "        22: '正義感',\n",
    "        23: '重視友情',\n",
    "        24: '專情',\n",
    "        25: '愛哭',\n",
    "        26: '顧家',\n",
    "        27: '體貼',\n",
    "        28: '情緒化',\n",
    "        29: '口才',\n",
    "        30: '創意',\n",
    "        31: '潔癖'\n",
    "    }[num]\n"
   ]
  },
  {
   "cell_type": "code",
   "execution_count": 4,
   "metadata": {},
   "outputs": [],
   "source": [
    "# 儲存資料用的 dict (按星座儲存)\n",
    "\n",
    "starSignData = {}\n",
    "starSignAttr = {}\n",
    "\n",
    "a = {}\n",
    "for i in range(1, 32):\n",
    "    a[getAttrName(i)] = 0\n",
    "\n",
    "for i in range(1, 13):\n",
    "    starSignData[getSignName(i)] = []\n",
    "    starSignAttr[getSignName(i)] = dict(a)"
   ]
  },
  {
   "cell_type": "code",
   "execution_count": 5,
   "metadata": {},
   "outputs": [],
   "source": [
    "# 讀 csv\n",
    "with open(star_file, newline='') as csvfile:\n",
    "    spamreader = csv.reader(csvfile, delimiter=' ', quotechar='|')\n",
    "    i = 0\n",
    "    for row in spamreader:\n",
    "        if i == 0: # header\n",
    "            row = row[0].split(',')\n",
    "            lines.append(row)\n",
    "            i += 1\n",
    "        else:\n",
    "            row = row[2].split(',')\n",
    "            lines.append(row)\n",
    "\n",
    "feature_names = lines[0]\n",
    "\n",
    "total_num = len(lines)\n",
    "\n",
    "# 整理資料\n",
    "del lines[0] # 去掉表單標題\n",
    "i = 0\n",
    "\n",
    "\n",
    "# 去掉時間\n",
    "for line in lines:\n",
    "    del line[0] # remove time\n",
    "    del line[len(line)-2] # remove commands\n"
   ]
  },
  {
   "cell_type": "code",
   "execution_count": 6,
   "metadata": {},
   "outputs": [],
   "source": [
    "# 把每一筆存進 data\n",
    "i = 0\n",
    "for line in lines:\n",
    "    if len(line) != 33:\n",
    "        # print('line[%d] has incorrect element num' % i)\n",
    "        total_num -= 1\n",
    "        continue\n",
    "    d = {}\n",
    "    d['分析對象'] = line[0]\n",
    "    d['星座'] = line[1]\n",
    "    d['耐性'] = int(line[2])\n",
    "    d['脾氣暴躁'] = int(line[3])\n",
    "    d['幼稚'] = int(line[4])\n",
    "    d['頑固'] = int(line[5])\n",
    "    d['心思細膩'] = int(line[6])\n",
    "    d['保守'] = int(line[7])\n",
    "    d['冷靜'] = int(line[8])\n",
    "    d['樂觀'] = int(line[9])\n",
    "    d['活潑'] = int(line[10])\n",
    "    d['公正'] = int(line[11])\n",
    "    d['優柔寡斷'] = int(line[12])\n",
    "    d['強勢'] = int(line[13])\n",
    "    d['浪漫'] = int(line[14])\n",
    "    d['過度理想化'] = int(line[15])\n",
    "    d['斤斤計較'] = int(line[16])\n",
    "    d['心機重'] = int(line[17])\n",
    "    d['完美主義'] = int(line[18])\n",
    "    d['愛計仇'] = int(line[19])\n",
    "    d['與眾不同'] = int(line[20])\n",
    "    d['愛面子'] = int(line[21])\n",
    "    d['有魅力'] = int(line[22])\n",
    "    d['正義感'] = int(line[23])\n",
    "    d['重視友情'] = int(line[24])\n",
    "    d['專情'] = int(line[25])\n",
    "    d['愛哭'] = int(line[26])\n",
    "    d['顧家'] = int(line[27])\n",
    "    d['體貼'] = int(line[28])\n",
    "    d['情緒化'] = int(line[29])\n",
    "    d['口才'] = int(line[30])\n",
    "    d['創意'] = int(line[31])\n",
    "    d['潔癖'] = int(line[32])\n",
    "    data.append(d)\n",
    "    i += 1\n",
    "\n",
    "\n"
   ]
  },
  {
   "cell_type": "markdown",
   "metadata": {},
   "source": [
    "## csv 資料總數"
   ]
  },
  {
   "cell_type": "code",
   "execution_count": 7,
   "metadata": {},
   "outputs": [
    {
     "name": "stdout",
     "output_type": "stream",
     "text": [
      "共 2316 份\n",
      "\n"
     ]
    }
   ],
   "source": [
    "print('共 %d 份\\n' % total_num)"
   ]
  },
  {
   "cell_type": "code",
   "execution_count": 8,
   "metadata": {},
   "outputs": [],
   "source": [
    "# 將資料依星座分類並加總特質\n",
    "for row in data:\n",
    "    for i in range(1, 32):\n",
    "        starSignAttr[row['星座']][getAttrName(i)] += row[getAttrName(i)]\n",
    "\n",
    "    for i in range(1, 13):\n",
    "        if(row['星座'] == getSignName(i)):\n",
    "            starSignData[getSignName(i)].append(row)\n"
   ]
  },
  {
   "cell_type": "markdown",
   "metadata": {},
   "source": [
    "### 各星座資料數"
   ]
  },
  {
   "cell_type": "code",
   "execution_count": 9,
   "metadata": {},
   "outputs": [
    {
     "name": "stdout",
     "output_type": "stream",
     "text": [
      "摩羯座 = 216\n",
      "水瓶座 = 209\n",
      "雙魚座 = 214\n",
      "牡羊座 = 169\n",
      "金牛座 = 173\n",
      "雙子座 = 192\n",
      "巨蟹座 = 208\n",
      "獅子座 = 184\n",
      "處女座 = 181\n",
      "天秤座 = 183\n",
      "天蠍座 = 217\n",
      "射手座 = 169\n"
     ]
    }
   ],
   "source": [
    "for i in range(1, 13):\n",
    "    print(getSignName(i) + ' = %d' % len(starSignData[getSignName(i)]))"
   ]
  },
  {
   "cell_type": "code",
   "execution_count": 10,
   "metadata": {},
   "outputs": [],
   "source": [
    "# 計算各星座的特質\n",
    "for i in range(1, 13): # 12 個星座\n",
    "    for a in range(1, 32): # 32 題\n",
    "        starSignAttr[getSignName(i)][getAttrName(a)] /= len(starSignData[getSignName(i)])"
   ]
  },
  {
   "cell_type": "markdown",
   "metadata": {},
   "source": [
    "## 每個星座前五高的特質"
   ]
  },
  {
   "cell_type": "code",
   "execution_count": 14,
   "metadata": {},
   "outputs": [
    {
     "data": {
      "text/html": [
       "<h3>摩羯座</h3>"
      ]
     },
     "metadata": {},
     "output_type": "display_data"
    },
    {
     "name": "stdout",
     "output_type": "stream",
     "text": [
      "('專情', 4.268518518518518)\n",
      "('重視友情', 4.143518518518518)\n",
      "('愛面子', 3.8796296296296298)\n",
      "('顧家', 3.865740740740741)\n",
      "('冷靜', 3.763888888888889)\n",
      "\n",
      "\n",
      "\n"
     ]
    },
    {
     "data": {
      "text/html": [
       "<h3>水瓶座</h3>"
      ]
     },
     "metadata": {},
     "output_type": "display_data"
    },
    {
     "name": "stdout",
     "output_type": "stream",
     "text": [
      "('重視友情', 4.354066985645933)\n",
      "('專情', 4.133971291866029)\n",
      "('與眾不同', 3.9808612440191387)\n",
      "('創意', 3.8325358851674642)\n",
      "('體貼', 3.813397129186603)\n",
      "\n",
      "\n",
      "\n"
     ]
    },
    {
     "data": {
      "text/html": [
       "<h3>雙魚座</h3>"
      ]
     },
     "metadata": {},
     "output_type": "display_data"
    },
    {
     "name": "stdout",
     "output_type": "stream",
     "text": [
      "('專情', 4.116822429906542)\n",
      "('優柔寡斷', 4.0607476635514015)\n",
      "('重視友情', 4.0607476635514015)\n",
      "('體貼', 3.897196261682243)\n",
      "('愛哭', 3.883177570093458)\n",
      "\n",
      "\n",
      "\n"
     ]
    },
    {
     "data": {
      "text/html": [
       "<h3>牡羊座</h3>"
      ]
     },
     "metadata": {},
     "output_type": "display_data"
    },
    {
     "name": "stdout",
     "output_type": "stream",
     "text": [
      "('重視友情', 4.3076923076923075)\n",
      "('專情', 4.201183431952662)\n",
      "('正義感', 3.9822485207100593)\n",
      "('活潑', 3.7928994082840237)\n",
      "('愛面子', 3.6804733727810652)\n",
      "\n",
      "\n",
      "\n"
     ]
    },
    {
     "data": {
      "text/html": [
       "<h3>金牛座</h3>"
      ]
     },
     "metadata": {},
     "output_type": "display_data"
    },
    {
     "name": "stdout",
     "output_type": "stream",
     "text": [
      "('專情', 4.312138728323699)\n",
      "('重視友情', 4.092485549132948)\n",
      "('體貼', 3.884393063583815)\n",
      "('顧家', 3.7283236994219653)\n",
      "('頑固', 3.722543352601156)\n",
      "\n",
      "\n",
      "\n"
     ]
    },
    {
     "data": {
      "text/html": [
       "<h3>雙子座</h3>"
      ]
     },
     "metadata": {},
     "output_type": "display_data"
    },
    {
     "name": "stdout",
     "output_type": "stream",
     "text": [
      "('重視友情', 4.135416666666667)\n",
      "('專情', 4.005208333333333)\n",
      "('優柔寡斷', 3.8541666666666665)\n",
      "('情緒化', 3.7604166666666665)\n",
      "('體貼', 3.6770833333333335)\n",
      "\n",
      "\n",
      "\n"
     ]
    },
    {
     "data": {
      "text/html": [
       "<h3>巨蟹座</h3>"
      ]
     },
     "metadata": {},
     "output_type": "display_data"
    },
    {
     "name": "stdout",
     "output_type": "stream",
     "text": [
      "('專情', 4.2548076923076925)\n",
      "('重視友情', 4.211538461538462)\n",
      "('顧家', 4.0625)\n",
      "('體貼', 4.0576923076923075)\n",
      "('情緒化', 3.956730769230769)\n",
      "\n",
      "\n",
      "\n"
     ]
    },
    {
     "data": {
      "text/html": [
       "<h3>獅子座</h3>"
      ]
     },
     "metadata": {},
     "output_type": "display_data"
    },
    {
     "name": "stdout",
     "output_type": "stream",
     "text": [
      "('愛面子', 4.342391304347826)\n",
      "('專情', 4.201086956521739)\n",
      "('重視友情', 4.173913043478261)\n",
      "('正義感', 3.7934782608695654)\n",
      "('體貼', 3.760869565217391)\n",
      "\n",
      "\n",
      "\n"
     ]
    },
    {
     "data": {
      "text/html": [
       "<h3>處女座</h3>"
      ]
     },
     "metadata": {},
     "output_type": "display_data"
    },
    {
     "name": "stdout",
     "output_type": "stream",
     "text": [
      "('專情', 4.265193370165746)\n",
      "('重視友情', 4.12707182320442)\n",
      "('心思細膩', 3.994475138121547)\n",
      "('愛面子', 3.9502762430939224)\n",
      "('體貼', 3.856353591160221)\n",
      "\n",
      "\n",
      "\n"
     ]
    },
    {
     "data": {
      "text/html": [
       "<h3>天秤座</h3>"
      ]
     },
     "metadata": {},
     "output_type": "display_data"
    },
    {
     "name": "stdout",
     "output_type": "stream",
     "text": [
      "('優柔寡斷', 4.426229508196721)\n",
      "('重視友情', 4.224043715846994)\n",
      "('專情', 4.163934426229508)\n",
      "('正義感', 3.8633879781420766)\n",
      "('體貼', 3.8524590163934427)\n",
      "\n",
      "\n",
      "\n"
     ]
    },
    {
     "data": {
      "text/html": [
       "<h3>天蠍座</h3>"
      ]
     },
     "metadata": {},
     "output_type": "display_data"
    },
    {
     "name": "stdout",
     "output_type": "stream",
     "text": [
      "('專情', 4.331797235023042)\n",
      "('重視友情', 4.15668202764977)\n",
      "('愛計仇', 3.751152073732719)\n",
      "('心思細膩', 3.751152073732719)\n",
      "('體貼', 3.728110599078341)\n",
      "\n",
      "\n",
      "\n"
     ]
    },
    {
     "data": {
      "text/html": [
       "<h3>射手座</h3>"
      ]
     },
     "metadata": {},
     "output_type": "display_data"
    },
    {
     "name": "stdout",
     "output_type": "stream",
     "text": [
      "('重視友情', 4.3017751479289945)\n",
      "('專情', 4.071005917159764)\n",
      "('正義感', 3.9171597633136095)\n",
      "('樂觀', 3.769230769230769)\n",
      "('創意', 3.7159763313609466)\n",
      "\n",
      "\n",
      "\n"
     ]
    }
   ],
   "source": [
    "# 列出每個星座前五高的特質\n",
    "for i in range(1, 13): # 12 個星座\n",
    "    sorted_a = sorted(starSignAttr[getSignName(i)].items(), key=operator.itemgetter(1))\n",
    "    sorted_a.reverse()\n",
    "    display_html('<h3>' + getSignName(i) + '</h3>', raw=True)\n",
    "    # print('--- ' + getSignName(i) + ' ---\\n')\n",
    "    for attr in range(5):\n",
    "        print(sorted_a[attr])\n",
    "    print('\\n\\n')"
   ]
  },
  {
   "cell_type": "markdown",
   "metadata": {},
   "source": [
    "## 每個特質最高與最低的星座"
   ]
  },
  {
   "cell_type": "code",
   "execution_count": 16,
   "metadata": {},
   "outputs": [
    {
     "data": {
      "text/html": [
       "<h3>耐性</h3>"
      ]
     },
     "metadata": {},
     "output_type": "display_data"
    },
    {
     "name": "stdout",
     "output_type": "stream",
     "text": [
      "\n",
      "最高 : ('金牛座', 3.398843930635838)\n",
      "\n",
      "最低 : ('牡羊座', 2.5562130177514795)\n",
      "\n",
      "\n",
      "\n"
     ]
    },
    {
     "data": {
      "text/html": [
       "<h3>脾氣暴躁</h3>"
      ]
     },
     "metadata": {},
     "output_type": "display_data"
    },
    {
     "name": "stdout",
     "output_type": "stream",
     "text": [
      "\n",
      "最高 : ('牡羊座', 3.3905325443786984)\n",
      "\n",
      "最低 : ('天秤座', 2.5956284153005464)\n",
      "\n",
      "\n",
      "\n"
     ]
    },
    {
     "data": {
      "text/html": [
       "<h3>幼稚</h3>"
      ]
     },
     "metadata": {},
     "output_type": "display_data"
    },
    {
     "name": "stdout",
     "output_type": "stream",
     "text": [
      "\n",
      "最高 : ('雙子座', 3.5989583333333335)\n",
      "\n",
      "最低 : ('處女座', 2.9171270718232045)\n",
      "\n",
      "\n",
      "\n"
     ]
    },
    {
     "data": {
      "text/html": [
       "<h3>頑固</h3>"
      ]
     },
     "metadata": {},
     "output_type": "display_data"
    },
    {
     "name": "stdout",
     "output_type": "stream",
     "text": [
      "\n",
      "最高 : ('金牛座', 3.722543352601156)\n",
      "\n",
      "最低 : ('天秤座', 2.7650273224043715)\n",
      "\n",
      "\n",
      "\n"
     ]
    },
    {
     "data": {
      "text/html": [
       "<h3>心思細膩</h3>"
      ]
     },
     "metadata": {},
     "output_type": "display_data"
    },
    {
     "name": "stdout",
     "output_type": "stream",
     "text": [
      "\n",
      "最高 : ('處女座', 3.994475138121547)\n",
      "\n",
      "最低 : ('牡羊座', 2.9822485207100593)\n",
      "\n",
      "\n",
      "\n"
     ]
    },
    {
     "data": {
      "text/html": [
       "<h3>保守</h3>"
      ]
     },
     "metadata": {},
     "output_type": "display_data"
    },
    {
     "name": "stdout",
     "output_type": "stream",
     "text": [
      "\n",
      "最高 : ('摩羯座', 3.5)\n",
      "\n",
      "最低 : ('射手座', 2.7218934911242605)\n",
      "\n",
      "\n",
      "\n"
     ]
    },
    {
     "data": {
      "text/html": [
       "<h3>冷靜</h3>"
      ]
     },
     "metadata": {},
     "output_type": "display_data"
    },
    {
     "name": "stdout",
     "output_type": "stream",
     "text": [
      "\n",
      "最高 : ('摩羯座', 3.763888888888889)\n",
      "\n",
      "最低 : ('雙魚座', 2.9018691588785046)\n",
      "\n",
      "\n",
      "\n"
     ]
    },
    {
     "data": {
      "text/html": [
       "<h3>樂觀</h3>"
      ]
     },
     "metadata": {},
     "output_type": "display_data"
    },
    {
     "name": "stdout",
     "output_type": "stream",
     "text": [
      "\n",
      "最高 : ('射手座', 3.769230769230769)\n",
      "\n",
      "最低 : ('處女座', 2.723756906077348)\n",
      "\n",
      "\n",
      "\n"
     ]
    },
    {
     "data": {
      "text/html": [
       "<h3>活潑</h3>"
      ]
     },
     "metadata": {},
     "output_type": "display_data"
    },
    {
     "name": "stdout",
     "output_type": "stream",
     "text": [
      "\n",
      "最高 : ('牡羊座', 3.7928994082840237)\n",
      "\n",
      "最低 : ('摩羯座', 2.9722222222222223)\n",
      "\n",
      "\n",
      "\n"
     ]
    },
    {
     "data": {
      "text/html": [
       "<h3>公正</h3>"
      ]
     },
     "metadata": {},
     "output_type": "display_data"
    },
    {
     "name": "stdout",
     "output_type": "stream",
     "text": [
      "\n",
      "最高 : ('天秤座', 3.737704918032787)\n",
      "\n",
      "最低 : ('雙魚座', 3.2242990654205608)\n",
      "\n",
      "\n",
      "\n"
     ]
    },
    {
     "data": {
      "text/html": [
       "<h3>優柔寡斷</h3>"
      ]
     },
     "metadata": {},
     "output_type": "display_data"
    },
    {
     "name": "stdout",
     "output_type": "stream",
     "text": [
      "\n",
      "最高 : ('天秤座', 4.426229508196721)\n",
      "\n",
      "最低 : ('射手座', 3.1420118343195265)\n",
      "\n",
      "\n",
      "\n"
     ]
    },
    {
     "data": {
      "text/html": [
       "<h3>強勢</h3>"
      ]
     },
     "metadata": {},
     "output_type": "display_data"
    },
    {
     "name": "stdout",
     "output_type": "stream",
     "text": [
      "\n",
      "最高 : ('獅子座', 3.4402173913043477)\n",
      "\n",
      "最低 : ('雙魚座', 2.621495327102804)\n",
      "\n",
      "\n",
      "\n"
     ]
    },
    {
     "data": {
      "text/html": [
       "<h3>浪漫</h3>"
      ]
     },
     "metadata": {},
     "output_type": "display_data"
    },
    {
     "name": "stdout",
     "output_type": "stream",
     "text": [
      "\n",
      "最高 : ('雙魚座', 3.8551401869158877)\n",
      "\n",
      "最低 : ('摩羯座', 2.5462962962962963)\n",
      "\n",
      "\n",
      "\n"
     ]
    },
    {
     "data": {
      "text/html": [
       "<h3>過度理想化</h3>"
      ]
     },
     "metadata": {},
     "output_type": "display_data"
    },
    {
     "name": "stdout",
     "output_type": "stream",
     "text": [
      "\n",
      "最高 : ('雙魚座', 3.7196261682242993)\n",
      "\n",
      "最低 : ('摩羯座', 2.4074074074074074)\n",
      "\n",
      "\n",
      "\n"
     ]
    },
    {
     "data": {
      "text/html": [
       "<h3>斤斤計較</h3>"
      ]
     },
     "metadata": {},
     "output_type": "display_data"
    },
    {
     "name": "stdout",
     "output_type": "stream",
     "text": [
      "\n",
      "最高 : ('金牛座', 2.9364161849710984)\n",
      "\n",
      "最低 : ('射手座', 2.2840236686390534)\n",
      "\n",
      "\n",
      "\n"
     ]
    },
    {
     "data": {
      "text/html": [
       "<h3>心機重</h3>"
      ]
     },
     "metadata": {},
     "output_type": "display_data"
    },
    {
     "name": "stdout",
     "output_type": "stream",
     "text": [
      "\n",
      "最高 : ('天蠍座', 3.096774193548387)\n",
      "\n",
      "最低 : ('牡羊座', 2.0710059171597632)\n",
      "\n",
      "\n",
      "\n"
     ]
    },
    {
     "data": {
      "text/html": [
       "<h3>完美主義</h3>"
      ]
     },
     "metadata": {},
     "output_type": "display_data"
    },
    {
     "name": "stdout",
     "output_type": "stream",
     "text": [
      "\n",
      "最高 : ('處女座', 3.839779005524862)\n",
      "\n",
      "最低 : ('雙子座', 2.8385416666666665)\n",
      "\n",
      "\n",
      "\n"
     ]
    },
    {
     "data": {
      "text/html": [
       "<h3>愛計仇</h3>"
      ]
     },
     "metadata": {},
     "output_type": "display_data"
    },
    {
     "name": "stdout",
     "output_type": "stream",
     "text": [
      "\n",
      "最高 : ('天蠍座', 3.751152073732719)\n",
      "\n",
      "最低 : ('雙子座', 2.25)\n",
      "\n",
      "\n",
      "\n"
     ]
    },
    {
     "data": {
      "text/html": [
       "<h3>與眾不同</h3>"
      ]
     },
     "metadata": {},
     "output_type": "display_data"
    },
    {
     "name": "stdout",
     "output_type": "stream",
     "text": [
      "\n",
      "最高 : ('水瓶座', 3.9808612440191387)\n",
      "\n",
      "最低 : ('巨蟹座', 3.355769230769231)\n",
      "\n",
      "\n",
      "\n"
     ]
    },
    {
     "data": {
      "text/html": [
       "<h3>愛面子</h3>"
      ]
     },
     "metadata": {},
     "output_type": "display_data"
    },
    {
     "name": "stdout",
     "output_type": "stream",
     "text": [
      "\n",
      "最高 : ('獅子座', 4.342391304347826)\n",
      "\n",
      "最低 : ('巨蟹座', 3.519230769230769)\n",
      "\n",
      "\n",
      "\n"
     ]
    },
    {
     "data": {
      "text/html": [
       "<h3>有魅力</h3>"
      ]
     },
     "metadata": {},
     "output_type": "display_data"
    },
    {
     "name": "stdout",
     "output_type": "stream",
     "text": [
      "\n",
      "最高 : ('天蠍座', 3.3870967741935485)\n",
      "\n",
      "最低 : ('處女座', 2.9281767955801103)\n",
      "\n",
      "\n",
      "\n"
     ]
    },
    {
     "data": {
      "text/html": [
       "<h3>正義感</h3>"
      ]
     },
     "metadata": {},
     "output_type": "display_data"
    },
    {
     "name": "stdout",
     "output_type": "stream",
     "text": [
      "\n",
      "最高 : ('牡羊座', 3.9822485207100593)\n",
      "\n",
      "最低 : ('雙子座', 3.5364583333333335)\n",
      "\n",
      "\n",
      "\n"
     ]
    },
    {
     "data": {
      "text/html": [
       "<h3>重視友情</h3>"
      ]
     },
     "metadata": {},
     "output_type": "display_data"
    },
    {
     "name": "stdout",
     "output_type": "stream",
     "text": [
      "\n",
      "最高 : ('水瓶座', 4.354066985645933)\n",
      "\n",
      "最低 : ('雙魚座', 4.0607476635514015)\n",
      "\n",
      "\n",
      "\n"
     ]
    },
    {
     "data": {
      "text/html": [
       "<h3>專情</h3>"
      ]
     },
     "metadata": {},
     "output_type": "display_data"
    },
    {
     "name": "stdout",
     "output_type": "stream",
     "text": [
      "\n",
      "最高 : ('天蠍座', 4.331797235023042)\n",
      "\n",
      "最低 : ('雙子座', 4.005208333333333)\n",
      "\n",
      "\n",
      "\n"
     ]
    },
    {
     "data": {
      "text/html": [
       "<h3>愛哭</h3>"
      ]
     },
     "metadata": {},
     "output_type": "display_data"
    },
    {
     "name": "stdout",
     "output_type": "stream",
     "text": [
      "\n",
      "最高 : ('雙魚座', 3.883177570093458)\n",
      "\n",
      "最低 : ('摩羯座', 3.134259259259259)\n",
      "\n",
      "\n",
      "\n"
     ]
    },
    {
     "data": {
      "text/html": [
       "<h3>顧家</h3>"
      ]
     },
     "metadata": {},
     "output_type": "display_data"
    },
    {
     "name": "stdout",
     "output_type": "stream",
     "text": [
      "\n",
      "最高 : ('巨蟹座', 4.0625)\n",
      "\n",
      "最低 : ('射手座', 3.1420118343195265)\n",
      "\n",
      "\n",
      "\n"
     ]
    },
    {
     "data": {
      "text/html": [
       "<h3>體貼</h3>"
      ]
     },
     "metadata": {},
     "output_type": "display_data"
    },
    {
     "name": "stdout",
     "output_type": "stream",
     "text": [
      "\n",
      "最高 : ('巨蟹座', 4.0576923076923075)\n",
      "\n",
      "最低 : ('牡羊座', 3.5857988165680474)\n",
      "\n",
      "\n",
      "\n"
     ]
    },
    {
     "data": {
      "text/html": [
       "<h3>情緒化</h3>"
      ]
     },
     "metadata": {},
     "output_type": "display_data"
    },
    {
     "name": "stdout",
     "output_type": "stream",
     "text": [
      "\n",
      "最高 : ('巨蟹座', 3.956730769230769)\n",
      "\n",
      "最低 : ('摩羯座', 3.2175925925925926)\n",
      "\n",
      "\n",
      "\n"
     ]
    },
    {
     "data": {
      "text/html": [
       "<h3>口才</h3>"
      ]
     },
     "metadata": {},
     "output_type": "display_data"
    },
    {
     "name": "stdout",
     "output_type": "stream",
     "text": [
      "\n",
      "最高 : ('雙子座', 3.484375)\n",
      "\n",
      "最低 : ('金牛座', 3.0)\n",
      "\n",
      "\n",
      "\n"
     ]
    },
    {
     "data": {
      "text/html": [
       "<h3>創意</h3>"
      ]
     },
     "metadata": {},
     "output_type": "display_data"
    },
    {
     "name": "stdout",
     "output_type": "stream",
     "text": [
      "\n",
      "最高 : ('水瓶座', 3.8325358851674642)\n",
      "\n",
      "最低 : ('金牛座', 3.052023121387283)\n",
      "\n",
      "\n",
      "\n"
     ]
    },
    {
     "data": {
      "text/html": [
       "<h3>潔癖</h3>"
      ]
     },
     "metadata": {},
     "output_type": "display_data"
    },
    {
     "name": "stdout",
     "output_type": "stream",
     "text": [
      "\n",
      "最高 : ('處女座', 3.3535911602209945)\n",
      "\n",
      "最低 : ('牡羊座', 2.8816568047337277)\n",
      "\n",
      "\n",
      "\n"
     ]
    }
   ],
   "source": [
    "# 每個特質最高與最低的星座\n",
    "for a in range(1, 32):\n",
    "    attr = {}\n",
    "    for s in range(1, 13):\n",
    "        attr[getSignName(s)] = starSignAttr[getSignName(s)][getAttrName(a)]\n",
    "\n",
    "    sorted_attr = sorted(attr.items(), key=operator.itemgetter(1))\n",
    "    sorted_attr.reverse()\n",
    "\n",
    "    display_html('<h3>' + getAttrName(a) + '</h3>', raw=True)\n",
    "    print('\\n最高 : ', end='')\n",
    "    print(sorted_attr[0])\n",
    "    print('\\n最低 : ', end='')\n",
    "    print(sorted_attr[11])\n",
    "    print('\\n\\n')"
   ]
  },
  {
   "cell_type": "code",
   "execution_count": null,
   "metadata": {},
   "outputs": [],
   "source": []
  }
 ],
 "metadata": {
  "kernelspec": {
   "display_name": "Python 3",
   "language": "python",
   "name": "python3"
  },
  "language_info": {
   "codemirror_mode": {
    "name": "ipython",
    "version": 3
   },
   "file_extension": ".py",
   "mimetype": "text/x-python",
   "name": "python",
   "nbconvert_exporter": "python",
   "pygments_lexer": "ipython3",
   "version": "3.5.2"
  }
 },
 "nbformat": 4,
 "nbformat_minor": 2
}
